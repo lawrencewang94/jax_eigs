{
 "cells": [
  {
   "cell_type": "code",
   "execution_count": 1,
   "id": "96934865-c7fe-434c-b742-641e91d10e99",
   "metadata": {},
   "outputs": [
    {
     "name": "stdout",
     "output_type": "stream",
     "text": [
      "Moved up\n"
     ]
    }
   ],
   "source": [
    "import os\n",
    "os.chdir(\"../\")\n",
    "print(\"Moved up\")"
   ]
  },
  {
   "cell_type": "code",
   "execution_count": 2,
   "id": "f58afea8-beda-4db5-8c9e-68237dff61e9",
   "metadata": {},
   "outputs": [
    {
     "name": "stderr",
     "output_type": "stream",
     "text": [
      "2025-04-01 09:20:41.771214: E external/local_xla/xla/stream_executor/cuda/cuda_fft.cc:477] Unable to register cuFFT factory: Attempting to register factory for plugin cuFFT when one has already been registered\n",
      "WARNING: All log messages before absl::InitializeLog() is called are written to STDERR\n",
      "E0000 00:00:1743495641.866189 1118147 cuda_dnn.cc:8310] Unable to register cuDNN factory: Attempting to register factory for plugin cuDNN when one has already been registered\n",
      "E0000 00:00:1743495641.897372 1118147 cuda_blas.cc:1418] Unable to register cuBLAS factory: Attempting to register factory for plugin cuBLAS when one has already been registered\n"
     ]
    },
    {
     "name": "stdout",
     "output_type": "stream",
     "text": [
      "env: XLA_PYTHON_CLIENT_MEM_FRACTION=.9\n",
      "devices [CudaDevice(id=0)]\n"
     ]
    }
   ],
   "source": [
    "import importlib\n",
    "import copy\n",
    "import pickle\n",
    "import typing as tp\n",
    "from functools import partial\n",
    "\n",
    "import jax\n",
    "import jax.numpy as jnp\n",
    "import jax.flatten_util as fu\n",
    "from flax import linen as nn  # Linen API\n",
    "import numpy as np\n",
    "import matplotlib.pyplot as plt\n",
    "import optax\n",
    "import math\n",
    "\n",
    "from tqdm import tqdm\n",
    "import time\n",
    "\n",
    "import lib_data\n",
    "import utils\n",
    "import modules\n",
    "import callbacks\n",
    "\n",
    "%env XLA_PYTHON_CLIENT_MEM_FRACTION=.9\n",
    "import warnings\n",
    "warnings.simplefilter(action='ignore', category=FutureWarning)\n",
    "\n",
    "print(\"devices\", jax.devices())\n",
    "\n",
    "shade_colours = plt.get_cmap('Set3')\n",
    "dark_colours = plt.get_cmap('tab10')\n",
    "all_colours = plt.get_cmap('tab20')\n",
    "\n",
    "def light_colours(i):\n",
    "    return all_colours(2*i+1)"
   ]
  },
  {
   "cell_type": "code",
   "execution_count": 3,
   "id": "1f3def92-3cc5-44cd-b12c-c7514224659e",
   "metadata": {},
   "outputs": [
    {
     "name": "stdout",
     "output_type": "stream",
     "text": [
      "env: XLA_FLAGS=--xla_gpu_deterministic_ops=true --xla_gpu_deterministic_reductions=true\n"
     ]
    }
   ],
   "source": [
    "# %env XLA_FLAGS=--xla_gpu_deterministic_ops=true\n",
    "# %env XLA_FLAGS=--xla_gpu_deterministic_reductions=true\n",
    "%env XLA_FLAGS=--xla_gpu_deterministic_ops=true --xla_gpu_deterministic_reductions=true"
   ]
  },
  {
   "cell_type": "markdown",
   "id": "93e68954-02f0-4f13-bc71-8fc7b3472765",
   "metadata": {},
   "source": [
    "# Dataset"
   ]
  },
  {
   "cell_type": "code",
   "execution_count": 3,
   "id": "7b3e3216-8f97-4f75-8ed5-db3f36752aec",
   "metadata": {},
   "outputs": [
    {
     "name": "stdout",
     "output_type": "stream",
     "text": [
      "Clean 200 Corrupt 0\n",
      "class labels: [0 1 0 1 0 0 1 1 0 0]\n"
     ]
    },
    {
     "data": {
      "image/png": "[encoded data removed]",
      "text/plain": [
       "<Figure size 1500x1000 with 1 Axes>"
      ]
     },
     "metadata": {},
     "output_type": "display_data"
    },
    {
     "name": "stdout",
     "output_type": "stream",
     "text": [
      "3\n"
     ]
    }
   ],
   "source": [
    "#-----------------------------------------------------------------------------------------------------------------------------\n",
    "n_out = 2\n",
    "\n",
    "n_train: int = 100 * n_out\n",
    "n_eval: int = 20 * n_out\n",
    "n_hess: int = 100 * n_out\n",
    "use_mse = True\n",
    "\n",
    "utils.set_seed(0)\n",
    "importlib.reload(lib_data)\n",
    "def __get_datasets():\n",
    "    datasets = lib_data.get_fashion_mnist(flatten=False, tr_indices=n_train, te_indices=n_eval, hess_indices=n_hess,\n",
    "                            tr_classes=n_out, te_classes=n_out, hess_classes=n_out, one_hot = use_mse, \n",
    "                              augmentations = False, visualise=True)\n",
    "\n",
    "    data_name = \"fmnist_\"+str(n_out)+\"cl_\"+str(n_train) + \"_\" + str(n_eval) \n",
    "    print(len(datasets))\n",
    "    return datasets, data_name\n",
    "\n",
    "datasets, data_name = __get_datasets()"
   ]
  },
  {
   "cell_type": "markdown",
   "id": "0d1825cf-cf66-4628-b1df-0fd549e6b388",
   "metadata": {},
   "source": [
    "# Architecture"
   ]
  },
  {
   "cell_type": "code",
   "execution_count": 4,
   "id": "807718aa-21fe-4d29-a2ca-b931057d684e",
   "metadata": {},
   "outputs": [
    {
     "name": "stdout",
     "output_type": "stream",
     "text": [
      "MLP0_nh32\n"
     ]
    }
   ],
   "source": [
    "importlib.reload(modules)\n",
    "\n",
    "def __get_arch__():\n",
    "    depth = 0\n",
    "    n_h = 32\n",
    "    use_DO = False\n",
    "    use_BN = False\n",
    "    \n",
    "    model = modules.MLPNet(depth, n_h, n_out, use_BN=use_BN, use_DO=use_DO, inputs_flatten=True)\n",
    "    model_name = f\"MLP{depth}_nh{n_h:d}\"\n",
    "    \n",
    "    if use_DO:\n",
    "        model_name += \"_DO\"\n",
    "    if use_BN:\n",
    "        model_name += \"_BN\"\n",
    "    return model, model_name\n",
    "    \n",
    "model_arch, model_name = __get_arch__()\n",
    "print(model_name)"
   ]
  },
  {
   "cell_type": "markdown",
   "id": "754d222c-9284-48b2-ba72-6ae1cf02ef3d",
   "metadata": {},
   "source": [
    "# Optimizer"
   ]
  },
  {
   "cell_type": "code",
   "execution_count": 5,
   "id": "8f871d6d-d289-4915-8975-f9c44d058baa",
   "metadata": {},
   "outputs": [],
   "source": [
    "#-----------------------------------------------------------------------------------------------------------------------------\n",
    "importlib.reload(modules)\n",
    "from optax import contrib\n",
    "\n",
    "def __get_optim__(warmup_steps, lr, b1, b2, b3, option=\"\", rho=None, sync_period=1):\n",
    "    # warmup_steps, lr, b1, b2, b3 = hyps['warmup_steps'], hyps['lr'], hyps['b1'], hyps['b2'], hyps['b3']\n",
    "    if option == 'sam':\n",
    "        assert rho is not None\n",
    "        warmup_scheduler = optax.linear_schedule(init_value=0.0, end_value=lr,\n",
    "                                                transition_steps=warmup_steps,\n",
    "                                                transition_begin=0,)\n",
    "        constant_scheduler = optax.constant_schedule(lr)\n",
    "        lr_scheduler = optax.join_schedules([warmup_scheduler, constant_scheduler], boundaries=[warmup_steps])\n",
    "        base_opt = modules.get_sgd_optimizer(lr_scheduler, b1, b2, b3, verbose=False)\n",
    "        adv_opt = modules.get_sgd_optimizer(rho, b1, b2, b3, verbose=False)\n",
    "        optimizer = contrib.sam(base_opt, adv_opt, sync_period=sync_period, opaque_mode=True) # sam opt\n",
    "        optim_name = f\"sgdFam-SAM_1b{b1}_2b{b2}_3b{b3}_lr{lr}_warmup{warmup_steps}_rho{rho}_syncT{sync_period}\"\n",
    "\n",
    "    else:\n",
    "        warmup_scheduler = optax.linear_schedule(init_value=0.0, end_value=lr,\n",
    "                                                transition_steps=warmup_steps,\n",
    "                                                transition_begin=0,)\n",
    "        constant_scheduler = optax.constant_schedule(lr)\n",
    "        lr_scheduler = optax.join_schedules([warmup_scheduler, constant_scheduler], boundaries=[warmup_steps])\n",
    "        optimizer = modules.get_sgd_optimizer(lr_scheduler, b1, b2, b3, verbose=False)\n",
    "        optim_name = f\"sgdFam_1b{b1}_2b{b2}_3b{b3}_lr{lr}_warmup{warmup_steps}\"\n",
    "        \n",
    "    return optimizer, optim_name\n",
    "\n",
    "optimizer, optim_name = __get_optim__(2, 0.1, 0, 0, 0)"
   ]
  },
  {
   "cell_type": "markdown",
   "id": "1fae0321-a5a3-4190-9934-f87074466230",
   "metadata": {},
   "source": [
    "# Model Params (Fixed and Tuned)"
   ]
  },
  {
   "cell_type": "code",
   "execution_count": 6,
   "id": "7bba4401-c995-444b-8b5a-fcf6efdb42e3",
   "metadata": {},
   "outputs": [
    {
     "name": "stdout",
     "output_type": "stream",
     "text": [
      "21\n"
     ]
    }
   ],
   "source": [
    "#-----------------------------------------------------------------------------------------------------------------------------\n",
    "import itertools\n",
    "### FIXED\n",
    "warmup_steps = 0\n",
    "bs = 64\n",
    "eval_bs = 2000\n",
    "n_epochs = 100\n",
    "# loss_fn = optax.softmax_cross_entropy_with_integer_labels\n",
    "loss_fn = optax.squared_error\n",
    "\n",
    "# FLEXIBLE\n",
    "# lr = 0.005\n",
    "# beta_list = [(0., 0., 0.), (0., 0.99, 0.)]\n",
    "# optim_hp = LR, B1, B2, B3, SAM, Rho, sync_period\n",
    "lrs = np.array(list(range(21)))/10000 + 0.003\n",
    "optim_hp_list = [(utils.signif(lr), 0., 0., 0., False, 0., 1) for lr in lrs]\n",
    "# optim_hp_list = [\n",
    "    # (0.003, 0., 0., 0., False, 0., 1), \n",
    "    # (0.1, 0., 0., 0., True, 0.1, 1), \n",
    "    # (5e-3, 0., 0.9, 0., False, 0., 1), \n",
    "    # (5e-3, 0., 0.9, 0., True, 0., 1), \n",
    "    # (5e-3, 0., 0.9, 0., True, 0.1, 1), \n",
    "    # (5e-3, 0.9, 0.99, -1.0, False, 0., 1), \n",
    "    # (5e-3, 0.9, 0.99, -1.0, True, 0.01, 1), \n",
    "    # (5e-3, 0.9, 0.99, -0.5, False, 0., 1), \n",
    "    # (5e-3, 0.9, 0.99, -0.1, False, 0., 1), \n",
    "    # (5e-3, 0.9, 0.99, -0.05, False, 0., 1),\n",
    "    # (5e-3, 0.9, 0.99, -0.01, False, 0., 1),\n",
    "    # (5e-3, 0.9, 0.99, -0.005, False, 0., 1), \n",
    "    # (5e-3, 0.9, 0.99, -0.001, False, 0., 1), \n",
    "# ]\n",
    "seed_list = [x for x in range(1)]\n",
    "# seed_list = [1352] # just to check new SAM with new loss_wrap\n",
    "# sam_list = [False, True]\n",
    "s = [optim_hp_list, seed_list]\n",
    "hyp_list = list(itertools.product(*s))\n",
    "print(len(hyp_list))"
   ]
  },
  {
   "cell_type": "markdown",
   "id": "16a3fe1b-9c7b-4df5-95c2-74d36952280c",
   "metadata": {},
   "source": [
    "# Callbacks"
   ]
  },
  {
   "cell_type": "code",
   "execution_count": 24,
   "id": "f047b6bf-6631-4765-b580-5729e89aa0c5",
   "metadata": {},
   "outputs": [],
   "source": [
    "#-----------------------------------------------------------------------------------------------------------------------------\n",
    "sws = 10\n",
    "cb_freq = 1\n",
    "# hess_freq = int(1e8) # really large\n",
    "hess_freq = 10\n",
    "importlib.reload(callbacks)\n",
    "def __get_cbs__(state, option, compute_hessian=False):\n",
    "    bn = False if option == \"\" else True\n",
    "    cbs = []\n",
    "    cbs.append(callbacks.saveWeightsCB(sws, grad=True))\n",
    "    # cbs.append(callbacks.thinCB(thin_freq=cb_freq))\n",
    "\n",
    "    if compute_hessian:\n",
    "        hvpCB = callbacks.hvpCB(loss_fn=loss_fn, batches=(datasets[2].data[:n_hess], datasets[2].targets[:n_hess]), \n",
    "                            save_freq=hess_freq, hess_bs=n_hess, state=state, bn=bn)\n",
    "        cbs.append(hvpCB)   \n",
    "        specCB = callbacks.spectrumCB(n_eigs=20, n_evecs=10, \n",
    "                    loss_fn=loss_fn, seed=seed, hvpCB=hvpCB, save_freq=hess_freq, verbose=False)\n",
    "        cbs.append(specCB)\n",
    "\n",
    "    esCB = callbacks.earlyStopCB(acc_threshold=0.999, cbs=None, min_eps=sws, max_eps=n_epochs, conseq_eps=2,\n",
    "                                 final_cbs=[hvpCB, specCB], verbose=False, low_eps=max(sws, 100), low_thresh=0.11, )\n",
    "    cbs.append(esCB)\n",
    "    return cbs\n"
   ]
  },
  {
   "cell_type": "markdown",
   "id": "2f62ae84-b4c1-4432-b483-740b815ac760",
   "metadata": {},
   "source": [
    "# Train State"
   ]
  },
  {
   "cell_type": "code",
   "execution_count": 25,
   "id": "10a0d986-e610-48b1-8b2b-837cd218d452",
   "metadata": {},
   "outputs": [],
   "source": [
    "from flax import struct                # Flax dataclasses\n",
    "from clu import metrics\n",
    "from flax.training import train_state  # Useful dataclass to keep train state\n",
    "importlib.reload(modules)\n",
    "\n",
    "@struct.dataclass\n",
    "class Metrics(metrics.Collection):\n",
    "    # accuracy: metrics.Accuracy\n",
    "    loss: metrics.Average.from_output('loss')\n",
    "\n",
    "class TrainState(train_state.TrainState):\n",
    "    metrics: Metrics\n",
    "\n",
    "class TrainStateBN(train_state.TrainState):\n",
    "    metrics: Metrics\n",
    "    batch_stats: tp.Any\n",
    "\n",
    "class TrainStateSAM(modules.TrainStateSAM):\n",
    "    metrics: Metrics\n",
    "    batch_stats: tp.Any\n",
    "\n",
    "def create_train_state(model, optimizer, inputs, rng, option=\"\"):\n",
    "    \"\"\"Creates an initial `TrainState`.\"\"\"\n",
    "    if option == \"\":\n",
    "        params = model.init(rng, jnp.ones_like(inputs[0][jnp.newaxis, :]))['params'] # initialize parameters by passing a template image\n",
    "        \n",
    "        tx = optimizer\n",
    "        return TrainState.create(\n",
    "          apply_fn=model.apply, params=params, tx=tx, metrics=Metrics.empty())\n",
    "        \n",
    "    elif option == \"bn\":\n",
    "        variables = model.init(rng, jnp.ones_like(inputs[0][jnp.newaxis, :])) # initialize parameters by passing a template image\n",
    "        params = variables['params']\n",
    "        batch_stats = variables['batch_stats']\n",
    "        \n",
    "        tx = optimizer\n",
    "        return TrainStateBN.create(\n",
    "          apply_fn=model.apply, params=params, tx=tx, batch_stats=batch_stats, \n",
    "          metrics=Metrics.empty())\n",
    "        \n",
    "    elif option == \"sam\":\n",
    "        variables = model.init(rng, jnp.ones_like(inputs[0][jnp.newaxis, :])) # initialize parameters by passing a template image\n",
    "        params = variables['params']\n",
    "        batch_stats = variables['batch_stats']\n",
    "        \n",
    "        tx = optimizer\n",
    "        return TrainStateSAM.create(\n",
    "          apply_fn=model.apply, params=params, tx=tx, batch_stats=batch_stats, \n",
    "          metrics=Metrics.empty())\n",
    "    else:\n",
    "        raise NotImplementedError\n",
    "        \n",
    "        "
   ]
  },
  {
   "cell_type": "markdown",
   "id": "6d98af9c-1eaf-4282-a98f-a6e2a910dffe",
   "metadata": {},
   "source": [
    "# Training"
   ]
  },
  {
   "cell_type": "code",
   "execution_count": 26,
   "id": "71eb9178-e47b-45cf-ada0-bbbc84bc7342",
   "metadata": {
    "scrolled": true
   },
   "outputs": [
    {
     "name": "stdout",
     "output_type": "stream",
     "text": [
      "num params 1570\n",
      "Training model 250401-0944_fmnist_2cl_200_40_MLP0_nh32_seed0_sgdFam_1b0.0_2b0.0_3b0.0_lr0.003_warmup0_epochs100_bsFB_mse\n"
     ]
    },
    {
     "data": {
      "application/vnd.jupyter.widget-view+json": {
       "model_id": "e74d5f2df74142b9904760bf98ba5037",
       "version_major": 2,
       "version_minor": 0
      },
      "text/plain": [
       "epochs:   0%|          | 0/100 [00:00<?, ?it/s]"
      ]
     },
     "metadata": {},
     "output_type": "display_data"
    },
    {
     "name": "stdout",
     "output_type": "stream",
     "text": [
      "init top eigenvalue 457.9618835449219\n",
      "final top eigenvalue 474.9908752441406\n",
      "(11, 10, 1570)\n",
      "Eigenvectors and eigenvalues saved!\n",
      "Training complete 250401-0944_fmnist_2cl_200_40_MLP0_nh32_seed0_sgdFam_1b0.0_2b0.0_3b0.0_lr0.003_warmup0_epochs100_bsFB_mse\n",
      "sharp: 474.9908752441406\n",
      "250401-0944_fmnist_2cl_200_40_MLP0_nh32_seed0_sgdFam_1b0.0_2b0.0_3b0.0_lr0.003_warmup0_epochs100_bsFB_mse complete\n",
      "\n",
      " ---------------------------------------------------------------------------------------------------------\n",
      "\n",
      "num params 1570\n",
      "Training model 250401-0945_fmnist_2cl_200_40_MLP0_nh32_seed0_sgdFam_1b0.0_2b0.0_3b0.0_lr0.0031_warmup0_epochs100_bsFB_mse\n"
     ]
    },
    {
     "data": {
      "application/vnd.jupyter.widget-view+json": {
       "model_id": "0fa5d8e4a29145248938912bac3b0b99",
       "version_major": 2,
       "version_minor": 0
      },
      "text/plain": [
       "epochs:   0%|          | 0/100 [00:00<?, ?it/s]"
      ]
     },
     "metadata": {},
     "output_type": "display_data"
    },
    {
     "name": "stdout",
     "output_type": "stream",
     "text": [
      "init top eigenvalue 457.9618835449219\n",
      "final top eigenvalue 474.9908752441406\n",
      "(11, 10, 1570)\n",
      "Eigenvectors and eigenvalues saved!\n",
      "Training complete 250401-0945_fmnist_2cl_200_40_MLP0_nh32_seed0_sgdFam_1b0.0_2b0.0_3b0.0_lr0.0031_warmup0_epochs100_bsFB_mse\n",
      "sharp: 474.9908752441406\n",
      "250401-0945_fmnist_2cl_200_40_MLP0_nh32_seed0_sgdFam_1b0.0_2b0.0_3b0.0_lr0.0031_warmup0_epochs100_bsFB_mse complete\n",
      "\n",
      " ---------------------------------------------------------------------------------------------------------\n",
      "\n",
      "num params 1570\n",
      "Training model 250401-0946_fmnist_2cl_200_40_MLP0_nh32_seed0_sgdFam_1b0.0_2b0.0_3b0.0_lr0.0032_warmup0_epochs100_bsFB_mse\n"
     ]
    },
    {
     "data": {
      "application/vnd.jupyter.widget-view+json": {
       "model_id": "15da7bbc26de4ee2b65b0129501f4af1",
       "version_major": 2,
       "version_minor": 0
      },
      "text/plain": [
       "epochs:   0%|          | 0/100 [00:00<?, ?it/s]"
      ]
     },
     "metadata": {},
     "output_type": "display_data"
    },
    {
     "name": "stdout",
     "output_type": "stream",
     "text": [
      "init top eigenvalue 457.9618835449219\n",
      "final top eigenvalue 474.9908752441406\n",
      "(11, 10, 1570)\n",
      "Eigenvectors and eigenvalues saved!\n",
      "Training complete 250401-0946_fmnist_2cl_200_40_MLP0_nh32_seed0_sgdFam_1b0.0_2b0.0_3b0.0_lr0.0032_warmup0_epochs100_bsFB_mse\n",
      "sharp: 474.9908752441406\n",
      "250401-0946_fmnist_2cl_200_40_MLP0_nh32_seed0_sgdFam_1b0.0_2b0.0_3b0.0_lr0.0032_warmup0_epochs100_bsFB_mse complete\n",
      "\n",
      " ---------------------------------------------------------------------------------------------------------\n",
      "\n",
      "num params 1570\n",
      "Training model 250401-0947_fmnist_2cl_200_40_MLP0_nh32_seed0_sgdFam_1b0.0_2b0.0_3b0.0_lr0.0033_warmup0_epochs100_bsFB_mse\n"
     ]
    },
    {
     "data": {
      "application/vnd.jupyter.widget-view+json": {
       "model_id": "517ac290d75d4315967f4b7521c8b6a7",
       "version_major": 2,
       "version_minor": 0
      },
      "text/plain": [
       "epochs:   0%|          | 0/100 [00:00<?, ?it/s]"
      ]
     },
     "metadata": {},
     "output_type": "display_data"
    },
    {
     "name": "stdout",
     "output_type": "stream",
     "text": [
      "init top eigenvalue 457.9618835449219\n",
      "final top eigenvalue 474.9908752441406\n",
      "(11, 10, 1570)\n",
      "Eigenvectors and eigenvalues saved!\n",
      "Training complete 250401-0947_fmnist_2cl_200_40_MLP0_nh32_seed0_sgdFam_1b0.0_2b0.0_3b0.0_lr0.0033_warmup0_epochs100_bsFB_mse\n",
      "sharp: 474.9908752441406\n",
      "250401-0947_fmnist_2cl_200_40_MLP0_nh32_seed0_sgdFam_1b0.0_2b0.0_3b0.0_lr0.0033_warmup0_epochs100_bsFB_mse complete\n",
      "\n",
      " ---------------------------------------------------------------------------------------------------------\n",
      "\n",
      "num params 1570\n",
      "Training model 250401-0948_fmnist_2cl_200_40_MLP0_nh32_seed0_sgdFam_1b0.0_2b0.0_3b0.0_lr0.0034_warmup0_epochs100_bsFB_mse\n"
     ]
    },
    {
     "data": {
      "application/vnd.jupyter.widget-view+json": {
       "model_id": "ae8f712263c4492faea602eb574576c9",
       "version_major": 2,
       "version_minor": 0
      },
      "text/plain": [
       "epochs:   0%|          | 0/100 [00:00<?, ?it/s]"
      ]
     },
     "metadata": {},
     "output_type": "display_data"
    },
    {
     "name": "stdout",
     "output_type": "stream",
     "text": [
      "init top eigenvalue 457.9618835449219\n",
      "final top eigenvalue 474.9908752441406\n",
      "(11, 10, 1570)\n",
      "Eigenvectors and eigenvalues saved!\n",
      "Training complete 250401-0948_fmnist_2cl_200_40_MLP0_nh32_seed0_sgdFam_1b0.0_2b0.0_3b0.0_lr0.0034_warmup0_epochs100_bsFB_mse\n",
      "sharp: 474.9908752441406\n",
      "250401-0948_fmnist_2cl_200_40_MLP0_nh32_seed0_sgdFam_1b0.0_2b0.0_3b0.0_lr0.0034_warmup0_epochs100_bsFB_mse complete\n",
      "\n",
      " ---------------------------------------------------------------------------------------------------------\n",
      "\n",
      "num params 1570\n",
      "Training model 250401-0949_fmnist_2cl_200_40_MLP0_nh32_seed0_sgdFam_1b0.0_2b0.0_3b0.0_lr0.0035_warmup0_epochs100_bsFB_mse\n"
     ]
    },
    {
     "data": {
      "application/vnd.jupyter.widget-view+json": {
       "model_id": "b1631be7731b477bb2ed8200b5723bc8",
       "version_major": 2,
       "version_minor": 0
      },
      "text/plain": [
       "epochs:   0%|          | 0/100 [00:00<?, ?it/s]"
      ]
     },
     "metadata": {},
     "output_type": "display_data"
    },
    {
     "name": "stdout",
     "output_type": "stream",
     "text": [
      "init top eigenvalue 457.9618835449219\n",
      "final top eigenvalue 474.9908752441406\n",
      "(11, 10, 1570)\n",
      "Eigenvectors and eigenvalues saved!\n",
      "Training complete 250401-0949_fmnist_2cl_200_40_MLP0_nh32_seed0_sgdFam_1b0.0_2b0.0_3b0.0_lr0.0035_warmup0_epochs100_bsFB_mse\n",
      "sharp: 474.9908752441406\n",
      "250401-0949_fmnist_2cl_200_40_MLP0_nh32_seed0_sgdFam_1b0.0_2b0.0_3b0.0_lr0.0035_warmup0_epochs100_bsFB_mse complete\n",
      "\n",
      " ---------------------------------------------------------------------------------------------------------\n",
      "\n",
      "num params 1570\n",
      "Training model 250401-0950_fmnist_2cl_200_40_MLP0_nh32_seed0_sgdFam_1b0.0_2b0.0_3b0.0_lr0.0036_warmup0_epochs100_bsFB_mse\n"
     ]
    },
    {
     "data": {
      "application/vnd.jupyter.widget-view+json": {
       "model_id": "1ee33783d8914b679b75834cb7633612",
       "version_major": 2,
       "version_minor": 0
      },
      "text/plain": [
       "epochs:   0%|          | 0/100 [00:00<?, ?it/s]"
      ]
     },
     "metadata": {},
     "output_type": "display_data"
    },
    {
     "name": "stdout",
     "output_type": "stream",
     "text": [
      "init top eigenvalue 457.9618835449219\n",
      "final top eigenvalue 474.9908752441406\n",
      "(11, 10, 1570)\n",
      "Eigenvectors and eigenvalues saved!\n",
      "Training complete 250401-0950_fmnist_2cl_200_40_MLP0_nh32_seed0_sgdFam_1b0.0_2b0.0_3b0.0_lr0.0036_warmup0_epochs100_bsFB_mse\n",
      "sharp: 474.9908752441406\n",
      "250401-0950_fmnist_2cl_200_40_MLP0_nh32_seed0_sgdFam_1b0.0_2b0.0_3b0.0_lr0.0036_warmup0_epochs100_bsFB_mse complete\n",
      "\n",
      " ---------------------------------------------------------------------------------------------------------\n",
      "\n",
      "num params 1570\n",
      "Training model 250401-0951_fmnist_2cl_200_40_MLP0_nh32_seed0_sgdFam_1b0.0_2b0.0_3b0.0_lr0.0037_warmup0_epochs100_bsFB_mse\n"
     ]
    },
    {
     "data": {
      "application/vnd.jupyter.widget-view+json": {
       "model_id": "1492b6285da24d95b9adf9f4cfbc8ac5",
       "version_major": 2,
       "version_minor": 0
      },
      "text/plain": [
       "epochs:   0%|          | 0/100 [00:00<?, ?it/s]"
      ]
     },
     "metadata": {},
     "output_type": "display_data"
    },
    {
     "name": "stdout",
     "output_type": "stream",
     "text": [
      "init top eigenvalue 457.9618835449219\n",
      "final top eigenvalue 474.9908752441406\n",
      "(11, 10, 1570)\n",
      "Eigenvectors and eigenvalues saved!\n",
      "Training complete 250401-0951_fmnist_2cl_200_40_MLP0_nh32_seed0_sgdFam_1b0.0_2b0.0_3b0.0_lr0.0037_warmup0_epochs100_bsFB_mse\n",
      "sharp: 474.9908752441406\n",
      "250401-0951_fmnist_2cl_200_40_MLP0_nh32_seed0_sgdFam_1b0.0_2b0.0_3b0.0_lr0.0037_warmup0_epochs100_bsFB_mse complete\n",
      "\n",
      " ---------------------------------------------------------------------------------------------------------\n",
      "\n",
      "num params 1570\n",
      "Training model 250401-0952_fmnist_2cl_200_40_MLP0_nh32_seed0_sgdFam_1b0.0_2b0.0_3b0.0_lr0.0038_warmup0_epochs100_bsFB_mse\n"
     ]
    },
    {
     "data": {
      "application/vnd.jupyter.widget-view+json": {
       "model_id": "ed265d88edc14b0ca8773d5098614224",
       "version_major": 2,
       "version_minor": 0
      },
      "text/plain": [
       "epochs:   0%|          | 0/100 [00:00<?, ?it/s]"
      ]
     },
     "metadata": {},
     "output_type": "display_data"
    },
    {
     "name": "stdout",
     "output_type": "stream",
     "text": [
      "init top eigenvalue 457.9618835449219\n",
      "final top eigenvalue 474.9908752441406\n",
      "(11, 10, 1570)\n",
      "Eigenvectors and eigenvalues saved!\n",
      "Training complete 250401-0952_fmnist_2cl_200_40_MLP0_nh32_seed0_sgdFam_1b0.0_2b0.0_3b0.0_lr0.0038_warmup0_epochs100_bsFB_mse\n",
      "sharp: 474.9908752441406\n",
      "250401-0952_fmnist_2cl_200_40_MLP0_nh32_seed0_sgdFam_1b0.0_2b0.0_3b0.0_lr0.0038_warmup0_epochs100_bsFB_mse complete\n",
      "\n",
      " ---------------------------------------------------------------------------------------------------------\n",
      "\n",
      "num params 1570\n",
      "Training model 250401-0953_fmnist_2cl_200_40_MLP0_nh32_seed0_sgdFam_1b0.0_2b0.0_3b0.0_lr0.0039_warmup0_epochs100_bsFB_mse\n"
     ]
    },
    {
     "data": {
      "application/vnd.jupyter.widget-view+json": {
       "model_id": "6ba8ad5ff0e14818b8843423be0284f3",
       "version_major": 2,
       "version_minor": 0
      },
      "text/plain": [
       "epochs:   0%|          | 0/100 [00:00<?, ?it/s]"
      ]
     },
     "metadata": {},
     "output_type": "display_data"
    },
    {
     "name": "stdout",
     "output_type": "stream",
     "text": [
      "init top eigenvalue 457.9618835449219\n",
      "final top eigenvalue 474.9908752441406\n",
      "(11, 10, 1570)\n",
      "Eigenvectors and eigenvalues saved!\n",
      "Training complete 250401-0953_fmnist_2cl_200_40_MLP0_nh32_seed0_sgdFam_1b0.0_2b0.0_3b0.0_lr0.0039_warmup0_epochs100_bsFB_mse\n",
      "sharp: 474.9908752441406\n",
      "250401-0953_fmnist_2cl_200_40_MLP0_nh32_seed0_sgdFam_1b0.0_2b0.0_3b0.0_lr0.0039_warmup0_epochs100_bsFB_mse complete\n",
      "\n",
      " ---------------------------------------------------------------------------------------------------------\n",
      "\n",
      "num params 1570\n",
      "Training model 250401-0954_fmnist_2cl_200_40_MLP0_nh32_seed0_sgdFam_1b0.0_2b0.0_3b0.0_lr0.004_warmup0_epochs100_bsFB_mse\n"
     ]
    },
    {
     "data": {
      "application/vnd.jupyter.widget-view+json": {
       "model_id": "4f0a314fc0ea4dddb6f04892a0fea95b",
       "version_major": 2,
       "version_minor": 0
      },
      "text/plain": [
       "epochs:   0%|          | 0/100 [00:00<?, ?it/s]"
      ]
     },
     "metadata": {},
     "output_type": "display_data"
    },
    {
     "name": "stdout",
     "output_type": "stream",
     "text": [
      "init top eigenvalue 457.9618835449219\n",
      "final top eigenvalue 474.9908752441406\n",
      "(11, 10, 1570)\n",
      "Eigenvectors and eigenvalues saved!\n",
      "Training complete 250401-0954_fmnist_2cl_200_40_MLP0_nh32_seed0_sgdFam_1b0.0_2b0.0_3b0.0_lr0.004_warmup0_epochs100_bsFB_mse\n",
      "sharp: 474.9908752441406\n",
      "250401-0954_fmnist_2cl_200_40_MLP0_nh32_seed0_sgdFam_1b0.0_2b0.0_3b0.0_lr0.004_warmup0_epochs100_bsFB_mse complete\n",
      "\n",
      " ---------------------------------------------------------------------------------------------------------\n",
      "\n",
      "num params 1570\n",
      "Training model 250401-0955_fmnist_2cl_200_40_MLP0_nh32_seed0_sgdFam_1b0.0_2b0.0_3b0.0_lr0.0041_warmup0_epochs100_bsFB_mse\n"
     ]
    },
    {
     "data": {
      "application/vnd.jupyter.widget-view+json": {
       "model_id": "4c5ab637307f48ad822e85d0298a7231",
       "version_major": 2,
       "version_minor": 0
      },
      "text/plain": [
       "epochs:   0%|          | 0/100 [00:00<?, ?it/s]"
      ]
     },
     "metadata": {},
     "output_type": "display_data"
    },
    {
     "name": "stdout",
     "output_type": "stream",
     "text": [
      "init top eigenvalue 457.9618835449219\n",
      "final top eigenvalue 474.9908752441406\n",
      "(11, 10, 1570)\n",
      "Eigenvectors and eigenvalues saved!\n",
      "Training complete 250401-0955_fmnist_2cl_200_40_MLP0_nh32_seed0_sgdFam_1b0.0_2b0.0_3b0.0_lr0.0041_warmup0_epochs100_bsFB_mse\n",
      "sharp: 474.9908752441406\n",
      "250401-0955_fmnist_2cl_200_40_MLP0_nh32_seed0_sgdFam_1b0.0_2b0.0_3b0.0_lr0.0041_warmup0_epochs100_bsFB_mse complete\n",
      "\n",
      " ---------------------------------------------------------------------------------------------------------\n",
      "\n",
      "num params 1570\n",
      "Training model 250401-0956_fmnist_2cl_200_40_MLP0_nh32_seed0_sgdFam_1b0.0_2b0.0_3b0.0_lr0.0042_warmup0_epochs100_bsFB_mse\n"
     ]
    },
    {
     "data": {
      "application/vnd.jupyter.widget-view+json": {
       "model_id": "3ee8692a477f4ac3ab2e394db93da2b7",
       "version_major": 2,
       "version_minor": 0
      },
      "text/plain": [
       "epochs:   0%|          | 0/100 [00:00<?, ?it/s]"
      ]
     },
     "metadata": {},
     "output_type": "display_data"
    },
    {
     "name": "stdout",
     "output_type": "stream",
     "text": [
      "init top eigenvalue 457.9618835449219\n",
      "final top eigenvalue 474.9908752441406\n",
      "(11, 10, 1570)\n",
      "Eigenvectors and eigenvalues saved!\n",
      "Training complete 250401-0956_fmnist_2cl_200_40_MLP0_nh32_seed0_sgdFam_1b0.0_2b0.0_3b0.0_lr0.0042_warmup0_epochs100_bsFB_mse\n",
      "sharp: 474.9908752441406\n",
      "250401-0956_fmnist_2cl_200_40_MLP0_nh32_seed0_sgdFam_1b0.0_2b0.0_3b0.0_lr0.0042_warmup0_epochs100_bsFB_mse complete\n",
      "\n",
      " ---------------------------------------------------------------------------------------------------------\n",
      "\n",
      "num params 1570\n",
      "Training model 250401-0957_fmnist_2cl_200_40_MLP0_nh32_seed0_sgdFam_1b0.0_2b0.0_3b0.0_lr0.0043_warmup0_epochs100_bsFB_mse\n"
     ]
    },
    {
     "data": {
      "application/vnd.jupyter.widget-view+json": {
       "model_id": "c6ae8805eeb14714ae15ef1a112919c6",
       "version_major": 2,
       "version_minor": 0
      },
      "text/plain": [
       "epochs:   0%|          | 0/100 [00:00<?, ?it/s]"
      ]
     },
     "metadata": {},
     "output_type": "display_data"
    },
    {
     "name": "stdout",
     "output_type": "stream",
     "text": [
      "init top eigenvalue 457.9618835449219\n",
      "final top eigenvalue 474.9908752441406\n",
      "(11, 10, 1570)\n",
      "Eigenvectors and eigenvalues saved!\n",
      "Training complete 250401-0957_fmnist_2cl_200_40_MLP0_nh32_seed0_sgdFam_1b0.0_2b0.0_3b0.0_lr0.0043_warmup0_epochs100_bsFB_mse\n",
      "sharp: 474.9908752441406\n",
      "250401-0957_fmnist_2cl_200_40_MLP0_nh32_seed0_sgdFam_1b0.0_2b0.0_3b0.0_lr0.0043_warmup0_epochs100_bsFB_mse complete\n",
      "\n",
      " ---------------------------------------------------------------------------------------------------------\n",
      "\n",
      "num params 1570\n",
      "Training model 250401-0958_fmnist_2cl_200_40_MLP0_nh32_seed0_sgdFam_1b0.0_2b0.0_3b0.0_lr0.0044_warmup0_epochs100_bsFB_mse\n"
     ]
    },
    {
     "data": {
      "application/vnd.jupyter.widget-view+json": {
       "model_id": "9ff1ed3575f74594bf0140019c7de03d",
       "version_major": 2,
       "version_minor": 0
      },
      "text/plain": [
       "epochs:   0%|          | 0/100 [00:00<?, ?it/s]"
      ]
     },
     "metadata": {},
     "output_type": "display_data"
    },
    {
     "name": "stdout",
     "output_type": "stream",
     "text": [
      "init top eigenvalue 457.9618835449219\n",
      "final top eigenvalue 474.9908752441406\n",
      "(11, 10, 1570)\n",
      "Eigenvectors and eigenvalues saved!\n",
      "Training complete 250401-0958_fmnist_2cl_200_40_MLP0_nh32_seed0_sgdFam_1b0.0_2b0.0_3b0.0_lr0.0044_warmup0_epochs100_bsFB_mse\n",
      "sharp: 474.9908752441406\n",
      "250401-0958_fmnist_2cl_200_40_MLP0_nh32_seed0_sgdFam_1b0.0_2b0.0_3b0.0_lr0.0044_warmup0_epochs100_bsFB_mse complete\n",
      "\n",
      " ---------------------------------------------------------------------------------------------------------\n",
      "\n",
      "num params 1570\n",
      "Training model 250401-0959_fmnist_2cl_200_40_MLP0_nh32_seed0_sgdFam_1b0.0_2b0.0_3b0.0_lr0.0045_warmup0_epochs100_bsFB_mse\n"
     ]
    },
    {
     "data": {
      "application/vnd.jupyter.widget-view+json": {
       "model_id": "3f91cce859404c52abafef289ba14ca7",
       "version_major": 2,
       "version_minor": 0
      },
      "text/plain": [
       "epochs:   0%|          | 0/100 [00:00<?, ?it/s]"
      ]
     },
     "metadata": {},
     "output_type": "display_data"
    },
    {
     "name": "stdout",
     "output_type": "stream",
     "text": [
      "init top eigenvalue 457.9618835449219\n",
      "final top eigenvalue 474.9908752441406\n",
      "(11, 10, 1570)\n",
      "Eigenvectors and eigenvalues saved!\n",
      "Training complete 250401-0959_fmnist_2cl_200_40_MLP0_nh32_seed0_sgdFam_1b0.0_2b0.0_3b0.0_lr0.0045_warmup0_epochs100_bsFB_mse\n",
      "sharp: 474.9908752441406\n",
      "250401-0959_fmnist_2cl_200_40_MLP0_nh32_seed0_sgdFam_1b0.0_2b0.0_3b0.0_lr0.0045_warmup0_epochs100_bsFB_mse complete\n",
      "\n",
      " ---------------------------------------------------------------------------------------------------------\n",
      "\n",
      "num params 1570\n",
      "Training model 250401-1000_fmnist_2cl_200_40_MLP0_nh32_seed0_sgdFam_1b0.0_2b0.0_3b0.0_lr0.0046_warmup0_epochs100_bsFB_mse\n"
     ]
    },
    {
     "data": {
      "application/vnd.jupyter.widget-view+json": {
       "model_id": "c0bc0511a0044cff845ff765cceecfcf",
       "version_major": 2,
       "version_minor": 0
      },
      "text/plain": [
       "epochs:   0%|          | 0/100 [00:00<?, ?it/s]"
      ]
     },
     "metadata": {},
     "output_type": "display_data"
    },
    {
     "name": "stdout",
     "output_type": "stream",
     "text": [
      "init top eigenvalue 457.9618835449219\n",
      "final top eigenvalue 474.9908752441406\n",
      "(11, 10, 1570)\n",
      "Eigenvectors and eigenvalues saved!\n",
      "Training complete 250401-1000_fmnist_2cl_200_40_MLP0_nh32_seed0_sgdFam_1b0.0_2b0.0_3b0.0_lr0.0046_warmup0_epochs100_bsFB_mse\n",
      "sharp: 474.9908752441406\n",
      "250401-1000_fmnist_2cl_200_40_MLP0_nh32_seed0_sgdFam_1b0.0_2b0.0_3b0.0_lr0.0046_warmup0_epochs100_bsFB_mse complete\n",
      "\n",
      " ---------------------------------------------------------------------------------------------------------\n",
      "\n",
      "num params 1570\n",
      "Training model 250401-1001_fmnist_2cl_200_40_MLP0_nh32_seed0_sgdFam_1b0.0_2b0.0_3b0.0_lr0.0047_warmup0_epochs100_bsFB_mse\n"
     ]
    },
    {
     "data": {
      "application/vnd.jupyter.widget-view+json": {
       "model_id": "91323108cd264e3a942dd0a617e12a3a",
       "version_major": 2,
       "version_minor": 0
      },
      "text/plain": [
       "epochs:   0%|          | 0/100 [00:00<?, ?it/s]"
      ]
     },
     "metadata": {},
     "output_type": "display_data"
    },
    {
     "name": "stdout",
     "output_type": "stream",
     "text": [
      "init top eigenvalue 457.9618835449219\n",
      "final top eigenvalue 474.9908752441406\n",
      "(11, 10, 1570)\n",
      "Eigenvectors and eigenvalues saved!\n",
      "Training complete 250401-1001_fmnist_2cl_200_40_MLP0_nh32_seed0_sgdFam_1b0.0_2b0.0_3b0.0_lr0.0047_warmup0_epochs100_bsFB_mse\n",
      "sharp: 474.9908752441406\n",
      "250401-1001_fmnist_2cl_200_40_MLP0_nh32_seed0_sgdFam_1b0.0_2b0.0_3b0.0_lr0.0047_warmup0_epochs100_bsFB_mse complete\n",
      "\n",
      " ---------------------------------------------------------------------------------------------------------\n",
      "\n",
      "num params 1570\n",
      "Training model 250401-1002_fmnist_2cl_200_40_MLP0_nh32_seed0_sgdFam_1b0.0_2b0.0_3b0.0_lr0.0048_warmup0_epochs100_bsFB_mse\n"
     ]
    },
    {
     "data": {
      "application/vnd.jupyter.widget-view+json": {
       "model_id": "6073e27e726744db9790e3f2af71448d",
       "version_major": 2,
       "version_minor": 0
      },
      "text/plain": [
       "epochs:   0%|          | 0/100 [00:00<?, ?it/s]"
      ]
     },
     "metadata": {},
     "output_type": "display_data"
    },
    {
     "name": "stdout",
     "output_type": "stream",
     "text": [
      "init top eigenvalue 457.9618835449219\n",
      "final top eigenvalue 474.9908752441406\n",
      "(11, 10, 1570)\n",
      "Eigenvectors and eigenvalues saved!\n",
      "Training complete 250401-1002_fmnist_2cl_200_40_MLP0_nh32_seed0_sgdFam_1b0.0_2b0.0_3b0.0_lr0.0048_warmup0_epochs100_bsFB_mse\n",
      "sharp: 474.9908752441406\n",
      "250401-1002_fmnist_2cl_200_40_MLP0_nh32_seed0_sgdFam_1b0.0_2b0.0_3b0.0_lr0.0048_warmup0_epochs100_bsFB_mse complete\n",
      "\n",
      " ---------------------------------------------------------------------------------------------------------\n",
      "\n",
      "num params 1570\n",
      "Training model 250401-1003_fmnist_2cl_200_40_MLP0_nh32_seed0_sgdFam_1b0.0_2b0.0_3b0.0_lr0.0049_warmup0_epochs100_bsFB_mse\n"
     ]
    },
    {
     "data": {
      "application/vnd.jupyter.widget-view+json": {
       "model_id": "5b5bd12a7af64855bb8c3bda2b3a032b",
       "version_major": 2,
       "version_minor": 0
      },
      "text/plain": [
       "epochs:   0%|          | 0/100 [00:00<?, ?it/s]"
      ]
     },
     "metadata": {},
     "output_type": "display_data"
    },
    {
     "name": "stdout",
     "output_type": "stream",
     "text": [
      "init top eigenvalue 457.9618835449219\n",
      "final top eigenvalue 474.9908752441406\n",
      "(11, 10, 1570)\n",
      "Eigenvectors and eigenvalues saved!\n",
      "Training complete 250401-1003_fmnist_2cl_200_40_MLP0_nh32_seed0_sgdFam_1b0.0_2b0.0_3b0.0_lr0.0049_warmup0_epochs100_bsFB_mse\n",
      "sharp: 474.9908752441406\n",
      "250401-1003_fmnist_2cl_200_40_MLP0_nh32_seed0_sgdFam_1b0.0_2b0.0_3b0.0_lr0.0049_warmup0_epochs100_bsFB_mse complete\n",
      "\n",
      " ---------------------------------------------------------------------------------------------------------\n",
      "\n",
      "num params 1570\n",
      "Training model 250401-1004_fmnist_2cl_200_40_MLP0_nh32_seed0_sgdFam_1b0.0_2b0.0_3b0.0_lr0.005_warmup0_epochs100_bsFB_mse\n"
     ]
    },
    {
     "data": {
      "application/vnd.jupyter.widget-view+json": {
       "model_id": "7c3f079e65ce4859a7fc4439769322aa",
       "version_major": 2,
       "version_minor": 0
      },
      "text/plain": [
       "epochs:   0%|          | 0/100 [00:00<?, ?it/s]"
      ]
     },
     "metadata": {},
     "output_type": "display_data"
    },
    {
     "name": "stdout",
     "output_type": "stream",
     "text": [
      "init top eigenvalue 457.9618835449219\n",
      "final top eigenvalue 474.9908752441406\n",
      "(11, 10, 1570)\n",
      "Eigenvectors and eigenvalues saved!\n",
      "Training complete 250401-1004_fmnist_2cl_200_40_MLP0_nh32_seed0_sgdFam_1b0.0_2b0.0_3b0.0_lr0.005_warmup0_epochs100_bsFB_mse\n",
      "sharp: 474.9908752441406\n",
      "250401-1004_fmnist_2cl_200_40_MLP0_nh32_seed0_sgdFam_1b0.0_2b0.0_3b0.0_lr0.005_warmup0_epochs100_bsFB_mse complete\n",
      "\n",
      " ---------------------------------------------------------------------------------------------------------\n",
      "\n"
     ]
    }
   ],
   "source": [
    "#-----------------------------------------------------------------------------------------------------------------------------\n",
    "import training\n",
    "importlib.reload(training)\n",
    "\n",
    "load_files = False\n",
    "compute_hessian = True\n",
    "force_train = False\n",
    "force_fb = True\n",
    "\n",
    "all_mh = []\n",
    "all_exp_names = []\n",
    "\n",
    "for hyp in hyp_list:\n",
    "    \n",
    "    metrics_history = {'train_loss': [],\n",
    "                   # 'train_accuracy': [],\n",
    "                   'test_loss': [],\n",
    "                   # 'test_accuracy': []}\n",
    "                    }\n",
    "\n",
    "    lr, b1, b2, b3, sam, sam_rho, sync_T = hyp[0]\n",
    "    seed = hyp[1]\n",
    "    option = 'sam' if sam else \"\"\n",
    "    \n",
    "    if datasets is None:\n",
    "        datasets, data_name = __get_datasets__()\n",
    "    \n",
    "    train_loader = lib_data.NumpyLoader(datasets[0], batch_size=bs, shuffle=not force_fb)\n",
    "    for sample_batch in train_loader:\n",
    "        break\n",
    "    \n",
    "    test_loader = lib_data.NumpyLoader(datasets[1], batch_size=eval_bs)\n",
    "    dataloaders = [train_loader, test_loader]\n",
    "    \n",
    "    model, model_name = __get_arch__()\n",
    "    model_name += \"_seed\"+str(seed)\n",
    "\n",
    "    optim, optim_name = __get_optim__(warmup_steps, lr, b1, b2, b3, option=option, rho=sam_rho, sync_period=sync_T)\n",
    "    optim_bs = bs if not force_fb else 'FB'\n",
    "    optim_name += f\"_epochs{n_epochs}_bs{optim_bs}_mse\"\n",
    "\n",
    "    init_rng = jax.random.PRNGKey(seed)\n",
    "    state = create_train_state(model, optim, sample_batch[0], init_rng, option=option)\n",
    "    del init_rng  # Must not be used anymore.\n",
    "    \n",
    "    cbs = __get_cbs__(state, option, compute_hessian=compute_hessian)\n",
    "    cb_name_str = utils.get_callback_name_str(cbs)\n",
    "    cb_name_list = utils.get_callback_name_list(cbs)\n",
    "    # break\n",
    "    num_params = utils.count_params(state.params)\n",
    "    print(\"num params\", num_params)\n",
    "\n",
    "    experiment_name = utils.get_now() + \"_\" + data_name + \"_\" + model_name + \"_\" + optim_name\n",
    "    \n",
    "    try:\n",
    "        if force_train:\n",
    "            raise FileNotFoundError\n",
    "        experiment_name, lse = utils.find_latest_exp(experiment_name, n_epochs, save_freq=cb_freq, \n",
    "                                                   cbs=cb_name_list, unknown_lse=True, verbose=False)\n",
    "        metrics_history = utils.load_thing(\"traj/\" + experiment_name + \"/metrics.pkl\")\n",
    "        # print(f\"tr_acc: {metrics_history['train_accuracy'][-1]:0%}, te_acc: {metrics_history['test_accuracy'][-1]:0%}\")\n",
    "        metrics_history['lse'] = [lse]\n",
    "\n",
    "    except FileNotFoundError:\n",
    "        metrics_history = training.train_model(state, model, loss_fn, metrics_history, n_epochs, dataloaders, \\\n",
    "                                                   experiment_name, cbs, option=option, force_fb=force_fb, tqdm_over_epochs=1)         \n",
    "\n",
    "    if compute_hessian:\n",
    "        eigvals = utils.load_thing(\"traj/\" + experiment_name + \"/eigvals.pkl\")\n",
    "        metrics_history['eigvals'] = eigvals\n",
    "        eigvecs = utils.load_thing(\"traj/\" + experiment_name + \"/eigvecs.pkl\")\n",
    "        metrics_history['eigvecs'] = eigvecs\n",
    "        print(f\"sharp: {metrics_history['eigvals'][-1][0]}\")\n",
    "    all_mh.append(metrics_history)\n",
    "    all_exp_names.append(experiment_name)\n",
    "    \n",
    "    print(experiment_name, \"complete\")\n",
    "    print(\"\\n ---------------------------------------------------------------------------------------------------------\\n\")\n",
    "# Training: datasets, hps, arch_func, optim_func, cb_func, -> train model\n"
   ]
  },
  {
   "cell_type": "code",
   "execution_count": 27,
   "id": "75c3addb-5aa3-48b4-98dc-f729940aa315",
   "metadata": {},
   "outputs": [
    {
     "name": "stdout",
     "output_type": "stream",
     "text": [
      "done\n"
     ]
    }
   ],
   "source": [
    "print(\"done\")"
   ]
  },
  {
   "cell_type": "code",
   "execution_count": 28,
   "id": "43901c08-715c-471e-98cb-f9dc1384e7c3",
   "metadata": {},
   "outputs": [
    {
     "name": "stdout",
     "output_type": "stream",
     "text": [
      "[6.3621856e-02 6.2628448e-02 6.1679151e-02 6.0770739e-02 5.9900321e-02\n",
      " 5.9065256e-02 5.8263123e-02 5.7491705e-02 5.6749031e-02 5.6163751e-02\n",
      " 3.7294536e+00 6.2781508e+04 6.8202438e+08 4.9039760e+12 2.4170573e+16\n",
      " 8.4219670e+19 2.1318102e+23 4.0154157e+26 5.7506795e+29 6.3830985e+32\n",
      " 5.5870163e+35]\n"
     ]
    },
    {
     "data": {
      "image/png": "[encoded data removed]",
      "text/plain": [
       "<Figure size 640x480 with 1 Axes>"
      ]
     },
     "metadata": {},
     "output_type": "display_data"
    }
   ],
   "source": [
    "last_losses = np.array([mh['train_loss'][-1] for mh in all_mh])\n",
    "\n",
    "print(last_losses)\n",
    "fig, ax = plt.subplots(1, 1)\n",
    "ax.plot(lrs, last_losses)\n",
    "ax.set_yscale('log')\n",
    "ax.axvline(2/472.96)\n",
    "ax.axhline(all_mh[0]['train_loss'][0])\n",
    "plt.show()\n"
   ]
  },
  {
   "cell_type": "code",
   "execution_count": 29,
   "id": "fd1de5d2-a6b8-433f-9a2d-a74cb2a82410",
   "metadata": {},
   "outputs": [
    {
     "name": "stdout",
     "output_type": "stream",
     "text": [
      "(11, 10, 1570)\n"
     ]
    }
   ],
   "source": [
    "print(all_mh[0]['eigvecs'].shape)"
   ]
  },
  {
   "cell_type": "code",
   "execution_count": null,
   "id": "cd65c534-bb0d-4c1a-af54-2786d17d03a1",
   "metadata": {},
   "outputs": [],
   "source": [
    "#even the MSE rotates, omg"
   ]
  },
  {
   "cell_type": "code",
   "execution_count": null,
   "id": "19a6fb89-3e4f-4760-8e17-0e9aa010c1c4",
   "metadata": {},
   "outputs": [],
   "source": [
    "print(all_mh[0]['eigvecs'])"
   ]
  },
  {
   "cell_type": "code",
   "execution_count": 50,
   "id": "0c995295-87f7-477d-95b0-453f09b7a24f",
   "metadata": {},
   "outputs": [
    {
     "name": "stdout",
     "output_type": "stream",
     "text": [
      "[0.697727 0.697727 0.697727 0.697727 0.697727 0.697727 0.697727 0.697727\n",
      " 0.697727 0.697727 0.697727 0.697727 0.697727 0.697727 0.697727 0.697727\n",
      " 0.697727 0.697727 0.697727 0.697727 0.697727]\n"
     ]
    },
    {
     "data": {
      "image/png": "[encoded data removed]",
      "text/plain": [
       "<Figure size 640x480 with 1 Axes>"
      ]
     },
     "metadata": {},
     "output_type": "display_data"
    }
   ],
   "source": [
    "last_esims = np.array([utils.dk_cos(mh['eigvecs'][9, :6, :].T, mh['eigvecs'][-1, :6, :].T) for mh in all_mh])\n",
    "\n",
    "print(last_esims)\n",
    "fig, ax = plt.subplots(1, 1)\n",
    "ax.plot(lrs, last_esims)\n",
    "ax.set_yscale('log')\n",
    "# ax.axvline(2/457.96)\n",
    "ax.axhline(all_mh[0]['train_loss'][0])\n",
    "plt.show()\n"
   ]
  },
  {
   "cell_type": "code",
   "execution_count": 12,
   "id": "c6823584-7ced-47df-9317-d4ceb448b41b",
   "metadata": {},
   "outputs": [
    {
     "name": "stdout",
     "output_type": "stream",
     "text": [
      "(11, 20)\n",
      "[39.41613388 52.06484985 31.58375359 35.10308838 36.09992599 37.49410248\n",
      " 23.20713806 26.3470974  28.64349747 30.58611488 23.2610302 ]\n"
     ]
    },
    {
     "data": {
      "image/png": "[encoded data removed]",
      "text/plain": [
       "<Figure size 640x480 with 1 Axes>"
      ]
     },
     "metadata": {},
     "output_type": "display_data"
    },
    {
     "data": {
      "text/plain": [
       "[<matplotlib.lines.Line2D at 0x72e7701c6e30>]"
      ]
     },
     "execution_count": 12,
     "metadata": {},
     "output_type": "execute_result"
    },
    {
     "data": {
      "image/png": "[encoded data removed]",
      "text/plain": [
       "<Figure size 640x480 with 1 Axes>"
      ]
     },
     "metadata": {},
     "output_type": "display_data"
    }
   ],
   "source": [
    "# eigvals, lr=0.1\n",
    "print(all_mh[0]['eigvals'].shape)\n",
    "print(all_mh[0]['eigvals'][:, 0])\n",
    "plt.plot(all_mh[0]['eigvals'][:, 0])\n",
    "plt.show()\n",
    "eigsims = [utils.cos_sim(all_mh[0]['eigvecs'][i-1, 0, :], all_mh[0]['eigvecs'][i, 0, :]) for i in range(len(all_mh[0]['eigvals'])-1)]\n",
    "plt.plot(eigsims)"
   ]
  },
  {
   "cell_type": "code",
   "execution_count": 29,
   "id": "f5ffcfc1-5fed-4d8c-aebb-1f9ab366e7fb",
   "metadata": {},
   "outputs": [
    {
     "name": "stdout",
     "output_type": "stream",
     "text": [
      "(2001, 20)\n",
      "[39.71518326 44.82378387 30.31642914 ... 13.93208599 11.56198311\n",
      " 16.32165146]\n"
     ]
    },
    {
     "data": {
      "image/png": "[encoded data removed]",
      "text/plain": [
       "<Figure size 640x480 with 1 Axes>"
      ]
     },
     "metadata": {},
     "output_type": "display_data"
    },
    {
     "data": {
      "text/plain": [
       "[<matplotlib.lines.Line2D at 0x7a177eb3f640>]"
      ]
     },
     "execution_count": 29,
     "metadata": {},
     "output_type": "execute_result"
    },
    {
     "data": {
      "image/png": "[encoded data removed]",
      "text/plain": [
       "<Figure size 640x480 with 1 Axes>"
      ]
     },
     "metadata": {},
     "output_type": "display_data"
    }
   ],
   "source": [
    "# eigvals, lr=0.01\n",
    "print(all_mh[0]['eigvals'].shape)\n",
    "print(all_mh[0]['eigvals'][:, 0])\n",
    "plt.plot(all_mh[0]['eigvals'][:, 0])\n",
    "plt.show()\n",
    "eigsims = [utils.cos_sim(all_mh[0]['eigvecs'][i-1, 0, :], all_mh[0]['eigvecs'][i, 0, :]) for i in range(len(all_mh[0]['eigvals'])-1)]\n",
    "plt.plot(eigsims)"
   ]
  },
  {
   "cell_type": "code",
   "execution_count": 23,
   "id": "1f71c3c8-2a13-4afa-b987-bbd79487a7f2",
   "metadata": {},
   "outputs": [
    {
     "name": "stdout",
     "output_type": "stream",
     "text": [
      "(704, 20)\n",
      "[39.71518326 11.82230568  9.07498455  7.12147903 13.24570751 10.77616882\n",
      "  6.29170704  7.09070778  7.75572872  8.03465271 11.73704433  6.67467737\n",
      "  7.30640173  9.36815643  6.70754528  5.79431057  5.46358156 10.65130234\n",
      "  9.10431957  8.87966251  6.70225382  5.67819118  7.21564388  8.72601986\n",
      "  9.95867825  7.34283781  7.28374195  7.68227243 10.25885296  8.00736523\n",
      "  6.92336321  6.23756313  5.02646303  7.47823286  7.39140224  6.71130753\n",
      "  8.64813614  6.07062721  6.7294836   9.48208904  5.22375822  5.74337435\n",
      "  6.42279673  7.49752712  6.07046652  4.92627001  7.34147358  6.62745571\n",
      "  6.66373873  6.29183912 12.21033096  7.20066929  6.61234713  5.95590973\n",
      "  5.91611958 11.10954952  6.25927734  5.32333851  7.50041103 11.35489941\n",
      "  6.83393335  8.41162872  7.7197237   7.6334672  12.50511074  7.22840118\n",
      "  7.37899637  5.49183798 10.69256878  6.24623823  7.78843212  7.4550786\n",
      "  8.12653542  9.00067997  5.75601435  7.49188519  9.50530338  7.79469299\n",
      "  9.43052006  8.22378445  7.33066177  8.65483761  5.4262042   6.6047039\n",
      "  8.6043787  10.52109623 10.00501537  8.14872265  8.75930023  7.50093985\n",
      "  8.06673431  8.90463734  7.07908726  5.61637926  9.00283146  8.23036003\n",
      "  7.67751169  6.2389884   7.26360083  5.10192585  5.27547932  8.92351818\n",
      "  9.53974628  8.10104847  6.58919477  5.69030333  7.25285673  8.50930119\n",
      "  7.5244031   6.38638306  6.88507462  5.8319087   6.23430824  6.63224936\n",
      "  8.59228611  8.34888744 10.02928066  8.17849064  6.47622013  6.50569916\n",
      "  9.14056969  5.4909215   6.8593359   6.15658236  7.21980858  7.56033516\n",
      "  5.93417501  6.6953373   5.27594471  7.10349989  6.77056313  7.05627823\n",
      "  8.11483479  6.28112268  6.06544685  5.19424963  8.22025013  4.71014357\n",
      "  6.52355337  6.39771795  6.10011911  5.96916723  8.03429699  5.24917459\n",
      "  5.91113901  6.33706665  8.27643394 11.25648785  6.83948612  6.54084969\n",
      "  6.05775833  6.17860508  6.24197531  6.6897645   5.38788319  5.90083885\n",
      "  7.65216255  6.50432491  7.58905029  7.05925465  6.88889933  8.42508793\n",
      "  9.13452435  5.89951134  6.08744717  7.06390762  5.51995993  7.89443874\n",
      "  6.78754902  6.16654396  5.0156455   5.40806437  5.52964497  5.91759443\n",
      "  7.13984919  7.16656971  7.63619947  6.24245405  6.17212915  5.68712187\n",
      "  6.35004663  6.19677448  6.91393948  5.64130926  6.27561045  9.24372768\n",
      "  6.11756182  7.56296206  5.82074022  6.69302416  5.79155207  5.72924995\n",
      "  7.37785482  5.10615778  5.81658363  6.84009838  5.77245283  4.98519993\n",
      "  7.49072027  8.12919998  6.27972889  8.03350353  6.32395411  5.4525609\n",
      "  7.26739407  7.25668716  7.51666069  5.31802702  5.47347307  6.70664072\n",
      "  6.79426432  6.69308329  6.12221813  5.94531631  5.13711929  6.05043316\n",
      "  6.63484526  5.38497114 10.45260525  5.16290283  5.42654276  6.17500782\n",
      "  5.484478    6.04032278  6.70044851  8.93760204  6.42306757  5.56003237\n",
      "  8.14392948  4.71052122  7.2918148   6.03836584  6.42298126  5.88430119\n",
      "  7.93185663  7.91412544  5.1395402   5.82094383  5.70991516  5.96485472\n",
      "  6.60419846  6.15401125  4.95037317  5.68411779  5.83467913  5.92128754\n",
      "  6.67013502  5.83135509  5.52023506  4.7206769   6.09835148  4.87710714\n",
      "  7.23410511  5.55039787  6.87115431  6.51972008  7.27809477  5.1961875\n",
      "  5.7067728   5.97531033  6.11593676  8.04366112  5.30449295  6.52471542\n",
      "  5.17254305  7.53661489  5.97947168  5.44659376  6.73566294  5.77687502\n",
      "  5.28855562  5.92213488  5.6099329   6.92502689  6.56035566  5.25266457\n",
      "  5.88421822  5.64519501  4.90306902  6.1166935   8.48787785  5.68095016\n",
      "  5.55558777  7.40516853  7.60512447  6.47062778  6.13123655  5.48795271\n",
      "  6.06092978  5.17765713  7.04014111  4.90934229  5.73210716  5.01897526\n",
      "  5.93327665  6.53946543  5.59535646  6.24947023  8.01870441  5.5274682\n",
      "  9.00374222  5.88458633  5.11431265  6.3235364   5.45840025  8.85290051\n",
      "  5.68361998  6.07589912  8.36059093  7.47825289  4.98622561  6.36250019\n",
      "  6.32677078  7.58367348  6.15048313  7.22304535  5.11231709  4.9002285\n",
      "  8.6357584   5.06826782  4.92912865  5.01393366  6.66019011  5.25598526\n",
      "  5.30112934  4.87273169  5.15961504  5.81208229  6.44892883  5.6173892\n",
      "  6.37203979  5.1619525   8.18043518  5.53013086  6.44460201  6.02613449\n",
      "  6.95584106  7.1914773   5.6912694   4.57304811  4.86648321  9.72835255\n",
      "  5.96662998  6.97306633  5.04353762  5.34290934  5.02586031  5.62122297\n",
      "  7.20102406  4.85176373  4.95308399  5.76570654  4.37293625  6.68562317\n",
      "  5.07533884  6.92304134  7.10440016  5.65088081  5.8238616   4.3585453\n",
      "  4.8507452   5.9566741   5.66678619  5.25768805  6.2387085   5.49505758\n",
      "  8.18277073  6.91987181  4.88309097  5.98365211  7.35816383  7.41516781\n",
      "  5.81192875  8.42679596  6.62710094  5.69113016  5.80117559  7.2363596\n",
      "  4.96409941  4.87680101  8.78015614  5.84652376  5.49813032  6.84212732\n",
      "  6.20183992  5.76795673  6.06180716  6.63141441  5.35575771  6.78477955\n",
      "  4.82203817  5.20568705  8.97419262  5.5834198   5.06764746  6.77701378\n",
      "  4.60783291  4.96430969  7.52443123  4.97170305  5.80677605  5.68359518\n",
      "  5.42689466  5.87543726  5.62874794  6.53983688  6.64934206  7.44073248\n",
      "  5.30544519  5.00344467  6.9749198   7.23496914  5.44248581  5.12014055\n",
      "  6.57407618  6.03583288  5.72266912  5.02699804  5.6954174   5.72826767\n",
      "  4.50029469  5.47436476  4.67256021  4.60170031  5.25052595  7.27370167\n",
      "  5.49767542  4.36064959  6.8946476   8.42227936  7.47908545  4.68294048\n",
      "  6.89458942  5.06842661  6.27626896  5.05252457  7.03085423  5.03154087\n",
      "  5.67152405  4.9108839   5.6994381   8.12175083  6.20337677  5.03017902\n",
      "  5.84068155  5.8362875   5.81874895  9.04883862  5.21383667  4.89331675\n",
      "  4.12152386  4.98949099  5.33073425  5.2909236   5.13696909  5.44326735\n",
      "  6.40936565  5.9638958   5.47368336  5.20204449  5.25230312  5.33330536\n",
      "  5.00563908  5.20776367  6.4466958   6.87864447  4.28029537  4.86255169\n",
      "  4.74289417  7.61883926  4.5946908   4.61985254  5.17077589  4.73939419\n",
      "  5.02228975  7.2385273   5.5038743   4.28417397  4.98087263  5.79987574\n",
      "  4.32581234  5.27979422  4.75306463  4.82079554  7.38501978  5.03183985\n",
      "  4.68057156  4.70200586  6.6263175   7.57388926  6.6252532   4.36458826\n",
      "  6.3293829   5.28065538  5.96620274  4.71010303  5.39801979  5.32290936\n",
      "  5.45568323  7.71906281  6.79617167  4.42329359  6.01717758  5.93049812\n",
      "  5.23661375  5.23058748  7.01403236  4.63789845  4.40147543  4.61393881\n",
      "  7.36888456  5.5352869   5.76183033  6.09118271  4.77987337  4.96956491\n",
      "  4.97130346  6.11764336  7.53130245  4.86402082  4.38263178  5.36334991\n",
      "  5.6293025   5.36618805  6.85355377  4.80923223  4.58610439  7.34558868\n",
      "  4.9504652   5.19191885  5.63696766  4.20532894  8.62345219  5.35247326\n",
      "  4.81862211  5.73965025  4.60412931  4.88535881  5.10930395  4.76255178\n",
      "  6.47906256  6.39174318  7.47037077  7.99307156  4.98067856  5.34673452\n",
      "  7.23542261  7.16636229  4.51624489  5.09814787  5.41206646  5.43572283\n",
      "  5.20996809  4.92395687  4.77662992  4.97944832  5.50405931  5.11251593\n",
      "  8.90873051  4.9075985   5.30124617  9.61264801  5.39877701  5.24520826\n",
      "  4.54317951  5.01390171  7.17300177  4.9009738   4.48979092  5.28518915\n",
      "  4.97573709  4.36579275  7.1538744   6.61292744  5.7232604   5.33990288\n",
      "  5.07180786  5.3142767   5.80181599  4.8279047   5.02749538  5.57434034\n",
      "  4.48442221  7.50450706  4.49384212  4.52456379  4.64988947  6.26047897\n",
      "  5.57579088  4.77490902  4.81092453  4.40030336  4.71151352  6.1811223\n",
      "  7.03334522  4.82727575  4.99730396  4.60715294  6.17813301  5.02996445\n",
      "  6.22546864  5.92392683  4.9208231   5.12449884  4.9471221   4.61273003\n",
      "  6.01006842  4.80689955  5.30553436  8.55321789  4.66916466  4.76661634\n",
      "  5.2188921   5.15615129  4.63454723  5.53947163  4.85876226  6.0987792\n",
      "  5.02534914  4.75378132  5.82821703  4.71412897  4.22496986  4.74480581\n",
      "  5.75603914  4.17487907  6.16958046  8.23569202  4.06126976  5.22492981\n",
      "  6.53645563  4.1550808   5.50644255  8.23212051  4.18428326  8.50964451\n",
      "  4.23740053  4.37819481  4.45688248  5.50058508  4.71621609  5.94594622\n",
      "  4.44683647  7.84461069  6.30805302  6.36068535  4.55572701  7.05344057\n",
      "  4.74215031  5.07231998  5.29898643  4.34724998  6.61250448  4.08257914\n",
      "  5.67126083  8.3820982   4.50141048  4.67082024  4.72655296  4.50325394\n",
      "  5.7271471   4.86582518  6.57687616  4.42151737  5.34327316  6.44982052\n",
      "  4.38645458  4.79413939  5.02913809  5.56389999  4.17572165  7.39633846\n",
      "  5.59760952  5.55468798  4.4859705   4.10286474  4.93293762  8.67273617\n",
      "  4.00413179  4.50867653  5.16776705  4.81321764  4.45694017  5.02744818\n",
      "  4.73978901  6.08622408  4.48968458  4.82191849  4.30832767  4.20425224\n",
      "  4.61342478  4.75670958  4.52592039  4.9614625   6.98470354  4.78360987\n",
      "  4.4903903   4.86768579  5.57093525  4.38509655  4.75619936  3.98238206\n",
      "  5.61467552  5.5963769 ]\n"
     ]
    }
   ],
   "source": [
    "# eigvals, lr=0.2\n",
    "print(all_mh[0]['eigvals'].shape)\n",
    "print(all_mh[0]['eigvals'][:, 0])"
   ]
  },
  {
   "cell_type": "code",
   "execution_count": 18,
   "id": "b0fccd5c-8340-4462-8c54-5db3bab9fc02",
   "metadata": {},
   "outputs": [
    {
     "name": "stdout",
     "output_type": "stream",
     "text": [
      "(910, 20)\n",
      "[39.71518326 16.27466393 10.51674557 19.7081337  14.00461102 23.48654556\n",
      " 17.66197395 17.6255722  12.95594883 17.89126015 13.02660465 13.28712082\n",
      "  8.62105274 17.50235176 15.46588802 22.27029037 12.6411953  10.0983696\n",
      " 17.27967834 13.47455406 10.60612392 11.81336689  9.90215206 15.77715969\n",
      " 14.03528309 15.14283085 10.81661224 10.86057854 18.4017601  10.80607033\n",
      " 12.52266121 12.87731075 13.15389442 12.49623489 10.1957531  12.67800713\n",
      " 15.67178631 12.01728439 20.66334915 12.71861649 15.22563744  9.69989777\n",
      " 13.3868227  10.73252296 11.27174759 15.67815304 12.64178848  9.94017315\n",
      " 12.54415894 12.70850277 16.39362907 13.9070015  11.77668858  9.74629211\n",
      " 11.54806519 12.11645317 15.39482212 12.79417515 16.19164467 12.03396225\n",
      " 11.55394459 13.86048317 11.70459461 14.08983231 14.03429985 12.37598801\n",
      " 10.20997047  9.77095985 10.52248859 12.68654251 15.82343578 14.40832615\n",
      " 10.17172813 13.50706673 10.93420601  8.96091747 11.24863911 13.30076694\n",
      " 13.76229191 12.65942478  9.4236412  10.60329628 12.57268047 12.61497211\n",
      " 13.2299242  12.42196274 12.56458569 14.14551926 10.989048   12.65939331\n",
      "  9.50583935 11.41861725 10.74739647 13.0442524  12.98290825 11.90326214\n",
      " 13.09057713 13.04914093  9.58317184 10.13890171 12.4387331  13.9234972\n",
      " 19.5847683  13.50649929 13.22113037 11.97309208 12.66227436 12.40186501\n",
      " 10.93144226 11.3002882   9.39123631  8.43042469 12.38724899 18.02165985\n",
      " 11.59878349 18.33915901 13.38517094 14.42070103 10.1045351  10.67282772\n",
      " 10.97050476 10.5250473  14.62372112 13.21718597 11.07349682  9.09546089\n",
      " 11.3987999  12.67944431 10.43046951  8.89636326 12.27272034 18.37383842\n",
      " 13.77445984 11.51300526 11.17295456 13.4273243   9.88097    11.21820736\n",
      "  9.19361877 12.06872463 14.13968086 11.7111578  12.93193817 10.74711514\n",
      "  9.89301205  8.78056717 11.26676178 11.39682674 12.24627113  9.87143898\n",
      "  9.78256989 10.54859352 10.30800247 15.55056095 12.81560898  8.74667454\n",
      " 12.72442722 10.68548012 12.62148952 10.13956356 10.78927231  8.53867245\n",
      " 10.0123415  11.23813343 10.58005524  8.73589611  9.49325562 10.2546339\n",
      " 11.6213665  12.59195328 12.8775692  11.20140839 11.98281288 10.45667934\n",
      "  9.65809631 11.35361481 10.26505661 10.81699657 12.00220871 11.33415699\n",
      "  9.4620285   8.97040081 16.33796501 10.89356136 10.07322121  9.35885048\n",
      "  8.83433247 10.94185448 13.97586155 10.79822445 17.2125206  14.39106369\n",
      " 12.34371948 11.68483162 10.46405983 10.66299343 10.62067318  9.80351734\n",
      " 10.74647141 13.16982651  9.53560162 15.70902443  8.05973339  8.64795494\n",
      "  8.80487251 14.23502159 12.27599144  8.37768459 12.52917099 13.19038296\n",
      " 11.08362103 11.47881222 11.61661434 12.13993645 12.32030964  8.99478436\n",
      " 10.42306805 13.06527996 14.13490963 10.37229443 11.35539722 11.29824924\n",
      " 10.56791973 11.76784325 10.70107174 11.93886662  9.50880241  8.51248074\n",
      " 10.11004639  8.26826859  8.84165001  9.67803097 11.32976437 10.31252193\n",
      "  9.99459743 10.21084499 11.50298595 10.96960735  8.70709515  9.46971416\n",
      " 10.04871082 10.47686291  8.62664986  9.66671848 10.48596096 11.25116634\n",
      " 14.75744629 10.18123913  9.61275959  8.95361137 11.04949188  9.87382984\n",
      " 14.10095024 10.63577461 10.09129429 11.5320015   8.66900539  7.34224653\n",
      "  8.8639679  10.69087601 10.64116573 14.41283703  8.38871956 10.75482464\n",
      " 10.67950535  9.19743252  8.65700722  9.06757069 11.16729546 12.45154381\n",
      "  9.27415752  9.5270071  10.20634079 12.67888546 13.08155823  9.89668846\n",
      "  9.40153885 10.12283134  8.80316162 13.22286129  9.81048584  8.67864418\n",
      "  9.01157475 11.58035755 11.66123962 10.03092003  8.70223236  9.53558159\n",
      " 11.61632633 10.85287189 12.09238434  9.58412457 10.42339993  8.77340031\n",
      " 10.37682724  9.20396709 10.92286205 10.06398678 13.46159458  8.47478104\n",
      " 10.70996857  9.22755909 10.48155117 10.57029915  8.94288349 11.29119492\n",
      "  9.63499546 11.56923962  9.42441082 10.79489803  8.79490852  9.88521481\n",
      " 10.12085342 10.43649006 11.15814018  8.98071766  9.50076103  9.28692818\n",
      "  9.40088081 12.15913773  7.93392944  8.80957508  9.90525246 11.21657467\n",
      "  9.20785236  8.008214    8.72020054 12.01218987  8.44861603  8.92955112\n",
      "  9.4974556   9.79514122 11.60409451  8.78314495 11.10957527 10.3658247\n",
      "  8.80735493 11.91402721 10.89444733  8.29149342  9.23013496 10.23063278\n",
      "  9.7560482  10.8079443  10.40841389  8.03317738 10.04696465  8.87597561\n",
      " 11.38309956 11.74315453  9.63493443 10.0865078   8.33530807  9.8362751\n",
      "  8.74528503 10.41153717  9.37702465  9.55607796  8.98740292  9.00194359\n",
      "  8.14059639 11.01245403  9.6458168   8.42069054 10.30878544  8.65720844\n",
      "  8.66215134 10.80463505  8.90756989  9.25776863  9.17899895 12.54693699\n",
      " 10.8820734   9.60930729  8.84630013 12.33204269  8.00318623 13.44458675\n",
      "  8.0673914   8.87177086 10.78755569 10.18901634  9.14632702 11.08094025\n",
      " 11.62903976 10.26348209  8.99102402  8.63398838 11.7776432  11.21089649\n",
      "  9.02795124  8.34858322  7.96226501  9.54942989 10.15218639 10.6133213\n",
      "  9.35281181  9.14449406 11.14357376  9.31054306  9.94080639  8.52677536\n",
      " 11.18887711  8.73814297  9.69877434  9.70386505  8.55260944 10.46881199\n",
      "  9.10440922  8.30519676 10.46621037 10.53658295  8.44678879  9.33835793\n",
      "  9.19242287 11.28661537 10.6015892   9.14476776 12.59134293 13.76666451\n",
      " 10.38793564 11.81908703  8.68729591  8.37940788  9.4582901  10.68767357\n",
      "  8.72354221 10.59889889 10.07960796 14.25757217 10.02248955  9.18873501\n",
      "  8.20185566  8.89465523  9.15268898 10.78458214 10.58501339  8.86063671\n",
      " 11.05828381  8.15890884  8.12518024  9.88223362  7.41271544  9.1275959\n",
      " 11.5343399   9.60227013  9.5058651  11.02684498  8.86670971  7.59810686\n",
      "  8.50807667  9.34296989  7.856462   11.37757111  9.78793812 14.03595734\n",
      "  9.51313496 10.05109215  9.28599453 11.27366543  9.67783451  7.07171202\n",
      "  8.02358341 10.58715343 10.97278404  7.96893787  8.63649082 12.36905479\n",
      "  8.5343647   8.83517742  8.74876118  8.09370327  9.56983566  7.23710251\n",
      " 10.6261797   9.52346611 10.17935085 10.83684158  8.66043377  9.73688889\n",
      "  7.71339607  8.22063065  8.85240364  8.91227722  9.88556957  9.45380878\n",
      "  9.00136089  7.92492723 10.31980324  8.05119896  8.61625004  8.15972233\n",
      "  8.15646362  7.67188168  8.21165562  8.65813065  9.84639549 12.20964146\n",
      "  9.29223156  7.62473202  8.62024689  9.05987358 10.60821819  8.56599331\n",
      "  9.65422535 10.79223061  9.68692017  8.0940609   9.82133198  9.18959522\n",
      " 10.49699593  8.64304256 12.08215523  8.84231472  7.63346529  8.96534538\n",
      "  9.34128094 10.23595905  8.24153137  8.01090336  8.15008163  8.68576527\n",
      "  9.34916496  9.61441994  9.08563805  9.44431782  8.17805386 11.29579639\n",
      "  8.30825329  9.63413239  9.15775013  8.06456947 10.2416811  11.11543751\n",
      "  9.28164768  8.67164421  9.63131905  9.40855598 11.9174509   7.67148924\n",
      " 10.70864773 11.22373676  9.99322605  9.40467167 10.38334656  9.28962612\n",
      "  9.7897501   8.66541767  8.96308708  9.78332996  9.82668781 10.09815025\n",
      "  8.39677143  9.68663979 10.30635071  7.07715654  9.73116016  7.56817865\n",
      "  7.68458366  8.60719299  9.38653183  8.47701836  9.8404026  12.25861359\n",
      "  9.52310467 11.56164074  9.81624031  9.6075716   8.45661545 11.22093964\n",
      "  8.91143322  7.30886173  8.59292126  9.25597858  9.43940067  8.30862904\n",
      "  9.57166862  8.16898823  7.54990673  8.41113091 10.12372684 10.77099228\n",
      "  7.56913614  8.60242081  9.45137215  7.12115479  8.74470425 10.57840729\n",
      "  8.53000641 11.35601807  7.73546982  8.36536884  9.30472946  7.46465969\n",
      "  6.96419525  7.91970778  8.94795895 10.87052059  9.21298695  8.73087692\n",
      "  7.48327971  7.57675362  9.38269234  7.3946228   8.79168987  7.37890387\n",
      "  7.36870527  8.4795475   9.9449873   9.26543331  8.20191002  7.94167709\n",
      "  9.21420765  7.6845293   7.28009415  8.06680489  7.81376791  8.33382797\n",
      "  8.78792477 10.35131645  9.69527626  8.7582674   7.86088085  9.11718941\n",
      "  7.91598511  8.14040947  8.77885437  9.18263245  8.61019135  8.77288723\n",
      "  9.40925121  7.61840153  9.58154011  9.04333401  7.42357492  8.99103165\n",
      "  7.21619081  7.01094961  9.04239655  8.2067852   8.06460953  9.72891235\n",
      "  6.97255611  9.04114437  9.32973957  8.03450584  7.74124575  9.79757309\n",
      "  7.13808155 12.44883156 10.20529652  7.63565779  9.46547508 10.29213142\n",
      "  7.79240274  9.15140152  7.45144606 10.9612608   9.14209652  9.40134811\n",
      "  9.310853    9.05945396  7.18348646  7.74620247  9.00261307  6.82692194\n",
      "  7.66626358 11.10575581  8.867383    8.6042366   7.22150469  8.50816631\n",
      "  8.75302601  9.19258785  8.83084774  7.76007032  7.08164692  9.17913818\n",
      "  7.8118124   6.74793482  9.27242947  7.21784258  8.95428181  9.04273415\n",
      "  8.73060131  8.57180786  8.91756439  7.53795767  8.96927929  6.54155445\n",
      "  8.50665474  9.04154491  9.28854847  8.2346077   9.09752846 10.69880676\n",
      "  9.46833897  8.71928215  8.43551922  6.87890244  7.70032787  7.52752399\n",
      "  8.553195    6.73796988 12.32292557 10.9764452   8.00042439  9.11287594\n",
      "  7.39074183  8.14355087  7.1803565   6.45592403  8.05785275  9.82560921\n",
      "  8.91736889 10.15298557  7.64883375  8.27836323  8.90966702  8.99803925\n",
      "  7.3140173   7.60523415  9.53535843  8.70913506  8.30851364  8.60392284\n",
      "  7.20469236  9.84558678  7.39079618  7.68694448  7.57191133  9.03852749\n",
      "  8.92070389  8.62904644  9.20186615  8.89417362  7.32225847 11.90801811\n",
      "  8.38381004  7.99040747  9.27944469  6.95967817  8.33381939 10.54637527\n",
      "  8.98484993  8.15576649  7.37483978  6.85814381  8.59209633  8.51456928\n",
      "  7.05119181  8.36262512  8.90573215  6.52296305  9.56908798  6.87146664\n",
      "  7.54265881  8.05423737  9.18355083  9.29218388  8.06673717  8.65170383\n",
      "  8.10801506  8.23649979  9.37098312  6.75261307  8.42116261  6.47107553\n",
      "  7.1341567   7.312253    7.3102417   7.75265503  7.91425562  8.86154938\n",
      "  6.63010836  6.80377293  7.77717876  8.6248703   8.03000927  9.67718983\n",
      "  7.34353399  6.97768545  8.8668108   7.53281641  8.87992287  8.64697456\n",
      "  7.88845921  8.59293175  9.47547722  7.76803207  9.44695663  6.75299263\n",
      "  7.17905092  8.07721996  7.2707181   9.49515343  7.48837376  8.3934021\n",
      "  8.9811821   7.00929976  7.3465848   6.66635609  7.44804955  7.50379419\n",
      "  9.59305668  8.12533188  8.22071648  6.98719978  8.62421036  7.51592875\n",
      "  7.10897112  8.16584682  7.3903327   7.67887592  7.57889509  9.21592236\n",
      "  8.05244064  8.97827053  7.70630836  6.59173298  6.9656086   7.9461422\n",
      "  8.34489632  9.08034706  9.09436893  8.38125896  7.46059561  6.87582874\n",
      "  8.40162563  8.4160099   8.92330837  8.08647823  7.3370533   8.95568371\n",
      "  7.53115273  8.15761185  8.09487534  7.80001545  8.66980457  7.72479105\n",
      "  9.74198246  8.1551733   8.99781322  6.42695141  6.67891407  7.68702698\n",
      "  6.4709239   7.13250399  8.67360115  7.2321105  10.83329964  7.37012386\n",
      "  6.24173307  7.67628908  7.04884911  7.89137125  7.5299902   8.88500595\n",
      "  9.24064732  8.15527534  7.41951561  7.63569069  7.33909321  7.26186323\n",
      " 10.43519878 10.60242081  8.1019392   7.99067259  8.98999214  9.46292019\n",
      "  8.23102951  8.76342487  8.29418945  7.38460684  7.90576267  7.69861174\n",
      "  8.57012653  7.06247377  6.61001301  6.89720631  7.0448947   6.52231455\n",
      "  8.13831902  7.65205574  7.25159407  7.71118498  7.76728773  7.72754049\n",
      "  6.88102627  8.14803028  7.69903421  8.49446964  6.8979001   8.61533642\n",
      "  6.61753845  8.5693388   6.96135569  5.70282602  6.99081135  8.56873989\n",
      "  7.79061413  8.03970909  6.35952854  8.14681816  5.92623615  7.51836872\n",
      "  7.85393572  8.43674469  8.84706211  7.84072924]\n"
     ]
    }
   ],
   "source": [
    "# eigvals, lr = 0.1\n",
    "print(all_mh[0]['eigvals'].shape)\n",
    "print(all_mh[0]['eigvals'][:, 0])"
   ]
  },
  {
   "cell_type": "code",
   "execution_count": 55,
   "id": "21559a25-73f2-4eaf-b854-421bd26aeb48",
   "metadata": {},
   "outputs": [
    {
     "name": "stdout",
     "output_type": "stream",
     "text": [
      "(101, 10, 7850)\n",
      "7.774761e-05\n",
      "0.70088035\n",
      "0.48960674\n",
      "0.5668334\n"
     ]
    }
   ],
   "source": [
    "print(all_mh[0]['eigvecs'].shape)\n",
    "eigvecs = all_mh[0]['eigvecs'].copy()\n",
    "print(utils.cos_sim(eigvecs[1, 0, :], eigvecs[1, 1, :]))\n",
    "print(utils.cos_sim(eigvecs[2, 0, :], eigvecs[3, 0, :]))\n",
    "print(utils.cos_sim(eigvecs[3, 0, :], eigvecs[4, 0, :]))\n",
    "print(utils.cos_sim(eigvecs[4, 0, :], eigvecs[5, 0, :]))\n",
    "\n",
    "\n"
   ]
  },
  {
   "cell_type": "code",
   "execution_count": null,
   "id": "67a25765-0efb-4c81-a929-6037bb9d66d4",
   "metadata": {},
   "outputs": [],
   "source": []
  },
  {
   "cell_type": "code",
   "execution_count": 29,
   "id": "335da606-b210-448d-9d72-18ab930b2b6b",
   "metadata": {},
   "outputs": [
    {
     "name": "stdout",
     "output_type": "stream",
     "text": [
      "dict_keys(['train_loss', 'train_accuracy', 'test_loss', 'test_accuracy', 'lse', 'eigvals'])\n"
     ]
    }
   ],
   "source": [
    "print(all_mh[0].keys())"
   ]
  },
  {
   "cell_type": "code",
   "execution_count": 20,
   "id": "f582c1f4-f817-45c0-9327-56b93b213020",
   "metadata": {},
   "outputs": [
    {
     "name": "stdout",
     "output_type": "stream",
     "text": [
      "13 13\n"
     ]
    }
   ],
   "source": [
    "print(len(optim_hp_list), len(all_mh))"
   ]
  },
  {
   "cell_type": "markdown",
   "id": "7faca97a-377f-42dd-bd82-6276abbe80cd",
   "metadata": {},
   "source": [
    "# Results"
   ]
  },
  {
   "cell_type": "code",
   "execution_count": 29,
   "id": "27481e4b-950c-4fdf-a022-073d8417d64e",
   "metadata": {},
   "outputs": [
    {
     "name": "stdout",
     "output_type": "stream",
     "text": [
      "SGD, train_accuracy:0.9990234375, test_accuracy:0.46150001883506775, lse:145.0\n",
      "SGD-SAM, train_accuracy:0.9990234375, test_accuracy:0.47350001335144043, lse:227.0\n",
      "ADAM, train_accuracy:0.9990234375, test_accuracy:0.5055000185966492, lse:783.0\n",
      "ADAM-SAM-R0, train_accuracy:0.9990234375, test_accuracy:0.5055000185966492, lse:605.0\n",
      "ADAM-SAM, train_accuracy:0.9990234375, test_accuracy:0.4740000367164612, lse:574.0\n",
      "ADAM-UB-1e0, train_accuracy:0.9996094107627869, test_accuracy:0.5175000429153442, lse:538.0\n",
      "ADAM-UB-1e0-SAM, train_accuracy:0.9990234375, test_accuracy:0.49000000953674316, lse:453.0\n",
      "ADAM-UB-5e-1, train_accuracy:0.999218761920929, test_accuracy:0.503000020980835, lse:529.0\n",
      "ADAM-UB-1e-1, train_accuracy:0.999218761920929, test_accuracy:0.49400001764297485, lse:505.0\n",
      "ADAM-UB-5e-2, train_accuracy:0.9990234375, test_accuracy:0.4985000193119049, lse:478.0\n",
      "ADAM-UB-1e-2, train_accuracy:0.9990234375, test_accuracy:0.4805000126361847, lse:408.0\n",
      "ADAM-UB-5e-3, train_accuracy:0.999218761920929, test_accuracy:0.499500036239624, lse:419.0\n",
      "ADAM-UB-1e-3, train_accuracy:0.11210937798023224, test_accuracy:0.09950000792741776, lse:100.0\n"
     ]
    }
   ],
   "source": [
    "optim_names = ['SGD', 'SGD-SAM', 'ADAM', 'ADAM-SAM-R0', 'ADAM-SAM', 'ADAM-UB-1e0', 'ADAM-UB-1e0-SAM', 'ADAM-UB-5e-1','ADAM-UB-1e-1', 'ADAM-UB-5e-2', 'ADAM-UB-1e-2', 'ADAM-UB-5e-3','ADAM-UB-1e-3']\n",
    "stat_names = ['train_accuracy', 'test_accuracy', 'lse']\n",
    "n_seeds = len(seed_list)\n",
    "for i in range(len(optim_hp_list)):\n",
    "    stats = [ 0 for j in range(len(stat_names))]\n",
    "    for j in range(len(stats)):\n",
    "        for k in range(n_seeds*i, n_seeds*i+n_seeds):\n",
    "            stats[j] += all_mh[k][stat_names[j]][-1]\n",
    "    out = f\"{optim_names[i]}\"\n",
    "    for j in range(len(stats)):\n",
    "        out += f\", {stat_names[j]}:{stats[j]/n_seeds}\"\n",
    "    print(out)\n",
    "    # print(optim_hp_list[i], np.mean(all_mh[3*i:3*i+3]['train_accuracy'][-1]), np.mean(all_mh[3*i:3*i+3]['test_accuracy'][-1]))"
   ]
  },
  {
   "cell_type": "markdown",
   "id": "b0fa1d12-ed2a-4a78-ac25-c212bcbc49a0",
   "metadata": {},
   "source": [
    "# Analysis"
   ]
  },
  {
   "cell_type": "code",
   "execution_count": null,
   "id": "4a6ff518-d4f5-464b-903e-d9cb7e296abd",
   "metadata": {},
   "outputs": [],
   "source": []
  },
  {
   "cell_type": "code",
   "execution_count": null,
   "id": "a9aeb3e1-ca5d-48e3-a999-fc78a31573e4",
   "metadata": {},
   "outputs": [],
   "source": []
  },
  {
   "cell_type": "code",
   "execution_count": null,
   "id": "e958ecb6-be9a-47f3-978f-526dceef9f8d",
   "metadata": {},
   "outputs": [],
   "source": []
  }
 ],
 "metadata": {
  "kernelspec": {
   "display_name": "Python 3 (ipykernel)",
   "language": "python",
   "name": "python3"
  },
  "language_info": {
   "codemirror_mode": {
    "name": "ipython",
    "version": 3
   },
   "file_extension": ".py",
   "mimetype": "text/x-python",
   "name": "python",
   "nbconvert_exporter": "python",
   "pygments_lexer": "ipython3",
   "version": "3.10.0"
  }
 },
 "nbformat": 4,
 "nbformat_minor": 5
}
