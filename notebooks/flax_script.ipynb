{
 "cells": [
  {
   "cell_type": "code",
   "execution_count": 1,
   "id": "96934865-c7fe-434c-b742-641e91d10e99",
   "metadata": {},
   "outputs": [
    {
     "name": "stdout",
     "output_type": "stream",
     "text": [
      "Moved up\n"
     ]
    }
   ],
   "source": [
    "import os\n",
    "os.chdir(\"../\")\n",
    "print(\"Moved up\")"
   ]
  },
  {
   "cell_type": "code",
   "execution_count": 2,
   "id": "f58afea8-beda-4db5-8c9e-68237dff61e9",
   "metadata": {},
   "outputs": [
    {
     "name": "stderr",
     "output_type": "stream",
     "text": [
      "2025-02-06 14:29:19.491466: E external/local_xla/xla/stream_executor/cuda/cuda_fft.cc:477] Unable to register cuFFT factory: Attempting to register factory for plugin cuFFT when one has already been registered\n",
      "WARNING: All log messages before absl::InitializeLog() is called are written to STDERR\n",
      "E0000 00:00:1738852159.506242 2553235 cuda_dnn.cc:8310] Unable to register cuDNN factory: Attempting to register factory for plugin cuDNN when one has already been registered\n",
      "E0000 00:00:1738852159.510755 2553235 cuda_blas.cc:1418] Unable to register cuBLAS factory: Attempting to register factory for plugin cuBLAS when one has already been registered\n"
     ]
    }
   ],
   "source": [
    "import importlib\n",
    "# import refactor.lib_data as lib_data\n",
    "# import refactor.utils as utils\n",
    "# import refactor.modules as modules\n",
    "import lib_data\n",
    "import utils\n",
    "import modules\n",
    "import callbacks\n"
   ]
  },
  {
   "cell_type": "code",
   "execution_count": null,
   "id": "5a7fdd07-3614-4ed7-af0a-a60d7da977f8",
   "metadata": {},
   "outputs": [],
   "source": []
  },
  {
   "cell_type": "code",
   "execution_count": 4,
   "id": "7b3e3216-8f97-4f75-8ed5-db3f36752aec",
   "metadata": {},
   "outputs": [
    {
     "name": "stdout",
     "output_type": "stream",
     "text": [
      "Downloading http://yann.lecun.com/exdb/mnist/train-images-idx3-ubyte.gz\n",
      "Failed to download (trying next):\n",
      "HTTP Error 404: Not Found\n",
      "\n",
      "Downloading https://ossci-datasets.s3.amazonaws.com/mnist/train-images-idx3-ubyte.gz\n",
      "Downloading https://ossci-datasets.s3.amazonaws.com/mnist/train-images-idx3-ubyte.gz to data/MNIST/raw/train-images-idx3-ubyte.gz\n"
     ]
    },
    {
     "name": "stderr",
     "output_type": "stream",
     "text": [
      "100%|█████████████████████████████████████████████████████████████████████████████████████████████████████████████████████████████████████████████████████████████████████████████████████████████████████████████████████████████████████████| 9.91M/9.91M [00:00<00:00, 12.5MB/s]\n"
     ]
    },
    {
     "name": "stdout",
     "output_type": "stream",
     "text": [
      "Extracting data/MNIST/raw/train-images-idx3-ubyte.gz to data/MNIST/raw\n",
      "\n",
      "Downloading http://yann.lecun.com/exdb/mnist/train-labels-idx1-ubyte.gz\n",
      "Failed to download (trying next):\n",
      "HTTP Error 404: Not Found\n",
      "\n",
      "Downloading https://ossci-datasets.s3.amazonaws.com/mnist/train-labels-idx1-ubyte.gz\n",
      "Downloading https://ossci-datasets.s3.amazonaws.com/mnist/train-labels-idx1-ubyte.gz to data/MNIST/raw/train-labels-idx1-ubyte.gz\n"
     ]
    },
    {
     "name": "stderr",
     "output_type": "stream",
     "text": [
      "100%|██████████████████████████████████████████████████████████████████████████████████████████████████████████████████████████████████████████████████████████████████████████████████████████████████████████████████████████████████████████| 28.9k/28.9k [00:00<00:00, 382kB/s]\n"
     ]
    },
    {
     "name": "stdout",
     "output_type": "stream",
     "text": [
      "Extracting data/MNIST/raw/train-labels-idx1-ubyte.gz to data/MNIST/raw\n",
      "\n",
      "Downloading http://yann.lecun.com/exdb/mnist/t10k-images-idx3-ubyte.gz\n",
      "Failed to download (trying next):\n",
      "HTTP Error 404: Not Found\n",
      "\n",
      "Downloading https://ossci-datasets.s3.amazonaws.com/mnist/t10k-images-idx3-ubyte.gz\n",
      "Downloading https://ossci-datasets.s3.amazonaws.com/mnist/t10k-images-idx3-ubyte.gz to data/MNIST/raw/t10k-images-idx3-ubyte.gz\n"
     ]
    },
    {
     "name": "stderr",
     "output_type": "stream",
     "text": [
      "100%|█████████████████████████████████████████████████████████████████████████████████████████████████████████████████████████████████████████████████████████████████████████████████████████████████████████████████████████████████████████| 1.65M/1.65M [00:00<00:00, 3.46MB/s]\n"
     ]
    },
    {
     "name": "stdout",
     "output_type": "stream",
     "text": [
      "Extracting data/MNIST/raw/t10k-images-idx3-ubyte.gz to data/MNIST/raw\n",
      "\n",
      "Downloading http://yann.lecun.com/exdb/mnist/t10k-labels-idx1-ubyte.gz\n",
      "Failed to download (trying next):\n",
      "HTTP Error 404: Not Found\n",
      "\n",
      "Downloading https://ossci-datasets.s3.amazonaws.com/mnist/t10k-labels-idx1-ubyte.gz\n",
      "Downloading https://ossci-datasets.s3.amazonaws.com/mnist/t10k-labels-idx1-ubyte.gz to data/MNIST/raw/t10k-labels-idx1-ubyte.gz\n"
     ]
    },
    {
     "name": "stderr",
     "output_type": "stream",
     "text": [
      "100%|█████████████████████████████████████████████████████████████████████████████████████████████████████████████████████████████████████████████████████████████████████████████████████████████████████████████████████████████████████████| 4.54k/4.54k [00:00<00:00, 1.19MB/s]\n"
     ]
    },
    {
     "name": "stdout",
     "output_type": "stream",
     "text": [
      "Extracting data/MNIST/raw/t10k-labels-idx1-ubyte.gz to data/MNIST/raw\n",
      "\n",
      "class labels: [5 0 4 1 9 2 1 3 1 4]\n"
     ]
    },
    {
     "data": {
      "image/png": "[encoded data removed]",
      "text/plain": [
       "<Figure size 1500x1000 with 1 Axes>"
      ]
     },
     "metadata": {},
     "output_type": "display_data"
    },
    {
     "name": "stdout",
     "output_type": "stream",
     "text": [
      "3\n"
     ]
    }
   ],
   "source": [
    "importlib.reload(lib_data)\n",
    "datasets = lib_data.get_mnist(flatten=False, tr_indices=5000, te_indices=1000, hess_indices=10,\n",
    "                            tr_classes=10, te_classes=10, hess_classes=10, visualise=True)\n",
    "print(len(datasets))"
   ]
  },
  {
   "cell_type": "code",
   "execution_count": 5,
   "id": "54c83d43-097b-4d03-ba74-d20f0f680dec",
   "metadata": {},
   "outputs": [],
   "source": [
    "from clu import metrics\n",
    "from flax.training import train_state  # Useful dataclass to keep train state\n",
    "from flax import struct                # Flax dataclasses\n",
    "import optax                           # Common loss functions and optimizers\n",
    "from flax import linen as nn  # Linen API\n",
    "import typing as tp"
   ]
  },
  {
   "cell_type": "code",
   "execution_count": 6,
   "id": "ac81ca66-44b9-4013-a272-03d99e3575d6",
   "metadata": {},
   "outputs": [],
   "source": [
    "@struct.dataclass\n",
    "class Metrics(metrics.Collection):\n",
    "  accuracy: metrics.Accuracy\n",
    "  loss: metrics.Average.from_output('loss')"
   ]
  },
  {
   "cell_type": "code",
   "execution_count": 7,
   "id": "943f9a1a-c6cb-4d9b-94b8-6d7b22347152",
   "metadata": {},
   "outputs": [],
   "source": [
    "class TrainState(train_state.TrainState):\n",
    "    metrics: Metrics\n",
    "    batch_stats: tp.Any\n",
    "\n",
    "def create_train_state(module, rng, learning_rate, momentum):\n",
    "    \"\"\"Creates an initial `TrainState`.\"\"\"\n",
    "    variables = module.init(rng, jnp.ones([1, 28, 28, 1])) # initialize parameters by passing a template image\n",
    "    params = variables['params']\n",
    "    batch_stats = variables['batch_stats']\n",
    "    \n",
    "    tx = optax.adam(learning_rate, momentum)\n",
    "    return TrainState.create(\n",
    "      apply_fn=module.apply, params=params, tx=tx, batch_stats=batch_stats, \n",
    "      metrics=Metrics.empty())"
   ]
  },
  {
   "cell_type": "code",
   "execution_count": 8,
   "id": "3533b809-e433-4008-8333-592562e66615",
   "metadata": {},
   "outputs": [],
   "source": [
    "import jax\n",
    "import jax.numpy as jnp  # JAX NumPy"
   ]
  },
  {
   "cell_type": "code",
   "execution_count": 9,
   "id": "f2b3ffa9-b0a9-429c-b3a1-bb83cfe09faf",
   "metadata": {},
   "outputs": [],
   "source": [
    "\n",
    "@jax.jit\n",
    "def train_step(state, batch):\n",
    "    \"\"\"Train for a single step.\"\"\"\n",
    "    def loss_fn(params):\n",
    "        logits, updates = state.apply_fn(\n",
    "            {'params': params, 'batch_stats': state.batch_stats},\n",
    "            batch[0],\n",
    "            train=True,\n",
    "            mutable=['batch_stats'] \n",
    "        )\n",
    "        loss = optax.softmax_cross_entropy_with_integer_labels(\n",
    "            logits=logits, labels=batch[1]\n",
    "        ).mean()\n",
    "        return loss, updates  \n",
    "\n",
    "    grad_fn = jax.value_and_grad(loss_fn, has_aux=True) \n",
    "    (loss, updates), grads = grad_fn(state.params)\n",
    "\n",
    "    state = state.apply_gradients(grads=grads)\n",
    "    state = state.replace(batch_stats=updates[\"batch_stats\"])\n",
    "    return state\n"
   ]
  },
  {
   "cell_type": "code",
   "execution_count": 10,
   "id": "b71a2291-fc5c-426f-85f1-0090962ecb21",
   "metadata": {},
   "outputs": [],
   "source": [
    "@jax.jit\n",
    "def compute_metrics(*, state, batch):\n",
    "  logits = state.apply_fn({'params': state.params, 'batch_stats':state.batch_stats}, batch[0], train=False)\n",
    "  loss = optax.softmax_cross_entropy_with_integer_labels(\n",
    "        logits=logits, labels=batch[1]).mean()\n",
    "  metric_updates = state.metrics.single_from_model_output(\n",
    "    logits=logits, labels=batch[1], loss=loss)\n",
    "  metrics = state.metrics.merge(metric_updates)\n",
    "  state = state.replace(metrics=metrics)\n",
    "  return state"
   ]
  },
  {
   "cell_type": "code",
   "execution_count": 11,
   "id": "d54f666f-aab9-4fc4-bfb0-f33a4e7f7e28",
   "metadata": {},
   "outputs": [],
   "source": [
    "init_rng = jax.random.key(0)"
   ]
  },
  {
   "cell_type": "code",
   "execution_count": 12,
   "id": "330d8344-a2c9-45f0-8bdd-2e8a126cdb71",
   "metadata": {},
   "outputs": [],
   "source": [
    "learning_rate = 0.01\n",
    "momentum = 0.9\n",
    "num_epochs = 3\n",
    "batch_size = 32"
   ]
  },
  {
   "cell_type": "code",
   "execution_count": 13,
   "id": "c70f2ef0-31c1-4054-809d-d72594ea5df4",
   "metadata": {},
   "outputs": [],
   "source": [
    "\n",
    "from flax import linen as nn  # Linen API\n",
    "import typing as tp\n",
    "importlib.reload(modules)\n",
    "from functools import partial\n",
    "\n",
    "class ResNet20(nn.Module):\n",
    "    \"\"\"A simple CNN model.\"\"\"\n",
    "    resnet_base = 8\n",
    "    use_DO = False\n",
    "    use_BN = True\n",
    "    sc_conv = 'Identity'\n",
    "    deterministic: tp.Optional[bool] = None\n",
    "    \n",
    "    @nn.compact\n",
    "    def __call__(self, x, train=True):\n",
    "        deterministic = not train\n",
    "        deterministic = nn.merge_param('deterministic', self.deterministic, deterministic)\n",
    "        x = nn.Conv(self.resnet_base, [3, 3], strides=[1, 1], use_bias=False)(x)\n",
    "        x = nn.BatchNorm(use_running_average=deterministic)(x) if self.use_BN else modules.Lambda(f=lambda x: x)(x)\n",
    "        x = nn.Dropout(0.1)(x, deterministic=deterministic) if self.use_DO else modules.Lambda(f=lambda x: x)(x)\n",
    "        x = modules.Lambda(jax.nn.relu)(x)\n",
    "\n",
    "        x = modules.ResBlock(out_channels=1*self.resnet_base, dropout=self.use_DO, bn=self.use_BN, sc_conv=self.sc_conv)(x, deterministic)  # 3\n",
    "        x = modules.ResBlock(out_channels=1*self.resnet_base, dropout=self.use_DO, bn=self.use_BN, sc_conv=self.sc_conv)(x, deterministic)  # 5\n",
    "        x = modules.ResBlock(out_channels=1*self.resnet_base, dropout=self.use_DO, bn=self.use_BN, sc_conv=self.sc_conv)(x, deterministic)  # 7\n",
    "\n",
    "        x = modules.ResBlock(out_channels=2*self.resnet_base, strides=2, dropout=self.use_DO, bn=self.use_BN, sc_conv=self.sc_conv)(x, deterministic)  # 9\n",
    "        x = modules.ResBlock(out_channels=2*self.resnet_base, dropout=self.use_DO, bn=self.use_BN, sc_conv=self.sc_conv)(x, deterministic)  # 11\n",
    "        x = modules.ResBlock(out_channels=2*self.resnet_base, dropout=self.use_DO, bn=self.use_BN, sc_conv=self.sc_conv)(x, deterministic)  # 13\n",
    "\n",
    "        x = modules.ResBlock(out_channels=4*self.resnet_base, strides=2, dropout=self.use_DO, bn=self.use_BN, sc_conv=self.sc_conv)(x, deterministic)  # 15\n",
    "        x = modules.ResBlock(out_channels=4*self.resnet_base, dropout=self.use_DO, bn=self.use_BN, sc_conv=self.sc_conv)(x, deterministic)  # 17\n",
    "        x = modules.ResBlock(out_channels=4*self.resnet_base, dropout=self.use_DO, bn=self.use_BN, sc_conv=self.sc_conv)(x, deterministic)  # 19\n",
    "        \n",
    "        x = partial(jnp.mean, axis=(1, 2))(x)\n",
    "        # x = jnp.mean(x, axis=(1, 2))\n",
    "        x = nn.Dense(10)(x)\n",
    "        \n",
    "        return x\n",
    "\n",
    "model = ResNet20()\n",
    "# print(cnn.tabulate(jax.random.key(0), jnp.ones((1, 28, 28, 1)),\n",
    "#                    compute_flops=True, compute_vjp_flops=True))"
   ]
  },
  {
   "cell_type": "code",
   "execution_count": 14,
   "id": "c69cf593-d583-4465-b5a8-bd9c2c33b328",
   "metadata": {},
   "outputs": [],
   "source": [
    "state = create_train_state(model, init_rng, learning_rate, momentum)\n",
    "del init_rng  # Must not be used anymore."
   ]
  },
  {
   "cell_type": "code",
   "execution_count": 15,
   "id": "7bf4e957-1024-4ba9-80e6-e7a46abe803d",
   "metadata": {},
   "outputs": [
    {
     "name": "stdout",
     "output_type": "stream",
     "text": [
      "67906\n"
     ]
    }
   ],
   "source": [
    "print(utils.count_params(state.params))"
   ]
  },
  {
   "cell_type": "code",
   "execution_count": 16,
   "id": "e175f344-1853-4ed6-83f3-0fd55b5cc79a",
   "metadata": {},
   "outputs": [],
   "source": [
    "num_steps_per_epoch = (len(datasets[0])+1)//batch_size"
   ]
  },
  {
   "cell_type": "code",
   "execution_count": 17,
   "id": "88288356-0aa2-4c87-9001-1b1069880150",
   "metadata": {},
   "outputs": [],
   "source": [
    "train_loader = lib_data.NumpyLoader(datasets[0], batch_size=batch_size)\n",
    "test_loader = lib_data.NumpyLoader(datasets[1], batch_size=batch_size)\n"
   ]
  },
  {
   "cell_type": "code",
   "execution_count": 18,
   "id": "85d94462-62c9-4c80-a3c1-2d175ca1d674",
   "metadata": {},
   "outputs": [],
   "source": [
    "metrics_history = {'train_loss': [],\n",
    "                   'train_accuracy': [],\n",
    "                   'test_loss': [],\n",
    "                   'test_accuracy': []}"
   ]
  },
  {
   "cell_type": "code",
   "execution_count": 19,
   "id": "c280966c-dd08-4180-b58b-25c1e5d0f667",
   "metadata": {},
   "outputs": [
    {
     "name": "stdout",
     "output_type": "stream",
     "text": [
      "train epoch: 0, loss: 630.8910522460938, accuracy: 15.184295654296875\n",
      "test epoch: 0, loss: 16.456220626831055, accuracy: 22.700000762939453\n",
      "train epoch: 1, loss: 6.906106948852539, accuracy: 42.119998931884766\n",
      "test epoch: 1, loss: 0.4588574469089508, accuracy: 88.70000457763672\n",
      "train epoch: 2, loss: 1.2646998167037964, accuracy: 71.44000244140625\n",
      "test epoch: 2, loss: 0.6974180340766907, accuracy: 82.90000915527344\n"
     ]
    }
   ],
   "source": [
    "\n",
    "for epoch in range(num_epochs):\n",
    "    for step,batch in enumerate(train_loader):\n",
    "      # Run optimization steps over training batches and compute batch metrics\n",
    "      state = train_step(state, batch) # get updated train state (which contains the updated parameters)\n",
    "      state = compute_metrics(state=state, batch=batch) # aggregate batch metrics\n",
    "    \n",
    "      if (step+1) % num_steps_per_epoch == 0: # one training epoch has passed\n",
    "        for metric,value in state.metrics.compute().items(): # compute metrics\n",
    "          metrics_history[f'train_{metric}'].append(value) # record metrics\n",
    "        state = state.replace(metrics=state.metrics.empty()) # reset train_metrics for next training epoch\n",
    "    \n",
    "        # Compute metrics on the test set after each training epoch\n",
    "        test_state = state\n",
    "        for test_batch in test_loader:\n",
    "          test_state = compute_metrics(state=test_state, batch=test_batch)\n",
    "    \n",
    "        for metric,value in test_state.metrics.compute().items():\n",
    "          metrics_history[f'test_{metric}'].append(value)\n",
    "    \n",
    "        print(f\"train epoch: {epoch}, \"\n",
    "              f\"loss: {metrics_history['train_loss'][-1]}, \"\n",
    "              f\"accuracy: {metrics_history['train_accuracy'][-1] * 100}\")\n",
    "        print(f\"test epoch: {epoch}, \"\n",
    "              f\"loss: {metrics_history['test_loss'][-1]}, \"\n",
    "              f\"accuracy: {metrics_history['test_accuracy'][-1] * 100}\")"
   ]
  },
  {
   "cell_type": "code",
   "execution_count": 20,
   "id": "de5ec825-bef8-4a61-85f0-8264cd556714",
   "metadata": {},
   "outputs": [
    {
     "name": "stdout",
     "output_type": "stream",
     "text": [
      "num params 67906\n",
      "eigenvalues [ 3.80002403e+01  3.41768265e+01  3.31688643e+00  2.25055146e+00\n",
      "  1.64200091e+00  1.55879486e+00  1.33142245e+00  1.15633059e+00\n",
      "  9.54578876e-01  7.83094823e-01  4.65274125e-01  2.34415293e-01\n",
      " -2.51076669e-02 -5.74746206e-02 -3.18478107e-01 -5.71588576e-01\n",
      " -7.72085190e-01 -9.68146801e-01 -1.15262413e+00 -1.22344947e+00]\n",
      "eigvecs shape (10, 67906)\n"
     ]
    }
   ],
   "source": [
    "# hvpcb\n",
    "# spectrumcb\n",
    "importlib.reload(callbacks)\n",
    "n_hess = 1000\n",
    "tmp_state = state\n",
    "seed = 0\n",
    "\n",
    "loss_fn = optax.softmax_cross_entropy_with_integer_labels\n",
    "t_hvpCB = callbacks.hvpCB(loss_fn=loss_fn, batches=(datasets[2].data[:n_hess], datasets[2].targets[:n_hess]), \n",
    "                        save_freq=10, hess_bs=n_hess, state=tmp_state)\n",
    "t_specCB = callbacks.spectrumCB(n_eigs=20, n_evecs=10, \n",
    "                loss_fn=loss_fn, seed=seed, hvpCB=t_hvpCB, save_freq=10, verbose=False)\n",
    "\n",
    "num_params = utils.count_params(state.params)\n",
    "print(\"num params\", num_params)\n",
    "# t_model0 = utils.load_weights_nn(model.copy(), \"traj/\"+t_exp_name+\"/w\"+str(t_lse)+\".pkl\")\n",
    "t_specCB.forward(epoch=10, state=tmp_state)\n",
    "print(\"eigenvalues\", t_specCB.last_eigval)\n",
    "print(\"eigvecs shape\", t_specCB.last_eigvec.shape)\n"
   ]
  },
  {
   "cell_type": "code",
   "execution_count": 21,
   "id": "7f978f00-1dc0-4a92-b0b2-8a337fa40b51",
   "metadata": {
    "scrolled": true
   },
   "outputs": [
    {
     "data": {
      "image/png": "[encoded data removed]",
      "text/plain": [
       "<Figure size 1500x500 with 2 Axes>"
      ]
     },
     "metadata": {},
     "output_type": "display_data"
    },
    {
     "data": {
      "text/plain": [
       "<Figure size 640x480 with 0 Axes>"
      ]
     },
     "metadata": {},
     "output_type": "display_data"
    }
   ],
   "source": [
    "import matplotlib.pyplot as plt  # Visualization\n",
    "\n",
    "# Plot loss and accuracy in subplots\n",
    "fig, (ax1, ax2) = plt.subplots(1, 2, figsize=(15, 5))\n",
    "ax1.set_title('Loss')\n",
    "ax2.set_title('Accuracy')\n",
    "for dataset in ('train','test'):\n",
    "    ax1.plot(metrics_history[f'{dataset}_loss'], label=f'{dataset}_loss')\n",
    "    ax2.plot(metrics_history[f'{dataset}_accuracy'], label=f'{dataset}_accuracy')\n",
    "ax1.legend()\n",
    "ax2.legend()\n",
    "plt.show()\n",
    "plt.clf()"
   ]
  },
  {
   "cell_type": "code",
   "execution_count": 21,
   "id": "f12ec7cc-08cc-489d-b1de-d93c22e3dde7",
   "metadata": {},
   "outputs": [],
   "source": [
    "utils.save_thing(state.opt_state, \"opt_state.pkl\")\n",
    "utils.save_thing(state.params, \"params.pkl\")\n",
    "utils.save_thing(metrics_history, \"metrics_history.pkl\")\n"
   ]
  }
 ],
 "metadata": {
  "kernelspec": {
   "display_name": "Python 3 (ipykernel)",
   "language": "python",
   "name": "python3"
  },
  "language_info": {
   "codemirror_mode": {
    "name": "ipython",
    "version": 3
   },
   "file_extension": ".py",
   "mimetype": "text/x-python",
   "name": "python",
   "nbconvert_exporter": "python",
   "pygments_lexer": "ipython3",
   "version": "3.10.0"
  }
 },
 "nbformat": 4,
 "nbformat_minor": 5
}
