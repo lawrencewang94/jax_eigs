{
 "cells": [
  {
   "cell_type": "code",
   "execution_count": 1,
   "id": "96934865-c7fe-434c-b742-641e91d10e99",
   "metadata": {},
   "outputs": [
    {
     "name": "stdout",
     "output_type": "stream",
     "text": [
      "Moved up\n"
     ]
    }
   ],
   "source": [
    "import os\n",
    "os.chdir(\"../\")\n",
    "print(\"Moved up\")"
   ]
  },
  {
   "cell_type": "code",
   "execution_count": 2,
   "id": "f58afea8-beda-4db5-8c9e-68237dff61e9",
   "metadata": {},
   "outputs": [
    {
     "name": "stderr",
     "output_type": "stream",
     "text": [
      "2025-03-29 10:56:41.565842: E external/local_xla/xla/stream_executor/cuda/cuda_fft.cc:477] Unable to register cuFFT factory: Attempting to register factory for plugin cuFFT when one has already been registered\n",
      "WARNING: All log messages before absl::InitializeLog() is called are written to STDERR\n",
      "E0000 00:00:1743245801.579811 3489802 cuda_dnn.cc:8310] Unable to register cuDNN factory: Attempting to register factory for plugin cuDNN when one has already been registered\n",
      "E0000 00:00:1743245801.584072 3489802 cuda_blas.cc:1418] Unable to register cuBLAS factory: Attempting to register factory for plugin cuBLAS when one has already been registered\n"
     ]
    },
    {
     "name": "stdout",
     "output_type": "stream",
     "text": [
      "env: XLA_PYTHON_CLIENT_MEM_FRACTION=.9\n",
      "devices [CudaDevice(id=0)]\n"
     ]
    }
   ],
   "source": [
    "import importlib\n",
    "import copy\n",
    "import pickle\n",
    "import typing as tp\n",
    "from functools import partial\n",
    "\n",
    "import jax\n",
    "import jax.numpy as jnp\n",
    "import jax.flatten_util as fu\n",
    "from flax import linen as nn  # Linen API\n",
    "import numpy as np\n",
    "import matplotlib.pyplot as plt\n",
    "import optax\n",
    "import math\n",
    "\n",
    "from tqdm import tqdm\n",
    "import time\n",
    "\n",
    "import lib_data\n",
    "import utils\n",
    "import modules\n",
    "import callbacks\n",
    "\n",
    "%env XLA_PYTHON_CLIENT_MEM_FRACTION=.9\n",
    "import warnings\n",
    "warnings.simplefilter(action='ignore', category=FutureWarning)\n",
    "\n",
    "print(\"devices\", jax.devices())\n",
    "\n",
    "shade_colours = plt.get_cmap('Set3')\n",
    "dark_colours = plt.get_cmap('tab10')\n",
    "all_colours = plt.get_cmap('tab20')\n",
    "\n",
    "def light_colours(i):\n",
    "    return all_colours(2*i+1)"
   ]
  },
  {
   "cell_type": "code",
   "execution_count": null,
   "id": "1f3def92-3cc5-44cd-b12c-c7514224659e",
   "metadata": {},
   "outputs": [],
   "source": [
    "# %env XLA_FLAGS=--xla_gpu_deterministic_ops=true\n",
    "# %env XLA_FLAGS=--xla_gpu_deterministic_reductions=true\n",
    "%env XLA_FLAGS=--xla_gpu_deterministic_ops=true --xla_gpu_deterministic_reductions=true"
   ]
  },
  {
   "cell_type": "markdown",
   "id": "93e68954-02f0-4f13-bc71-8fc7b3472765",
   "metadata": {},
   "source": [
    "# Dataset"
   ]
  },
  {
   "cell_type": "code",
   "execution_count": 13,
   "id": "7b3e3216-8f97-4f75-8ed5-db3f36752aec",
   "metadata": {},
   "outputs": [
    {
     "name": "stdout",
     "output_type": "stream",
     "text": [
      "Clean 1000 Corrupt 0\n",
      "class labels: [0 5 2 9 6 4 0 9 2 7]\n"
     ]
    },
    {
     "data": {
      "image/png": "[encoded data removed]",
      "text/plain": [
       "<Figure size 1500x1000 with 1 Axes>"
      ]
     },
     "metadata": {},
     "output_type": "display_data"
    },
    {
     "name": "stdout",
     "output_type": "stream",
     "text": [
      "3\n"
     ]
    }
   ],
   "source": [
    "#-----------------------------------------------------------------------------------------------------------------------------\n",
    "n_out = 10\n",
    "\n",
    "n_train: int = 100 * n_out\n",
    "n_eval: int = 20 * n_out\n",
    "n_hess: int = 100 * n_out\n",
    "use_mse = False\n",
    "\n",
    "utils.set_seed(0)\n",
    "importlib.reload(lib_data)\n",
    "def __get_datasets():\n",
    "    datasets = lib_data.get_fashion_mnist(flatten=False, tr_indices=n_train, te_indices=n_eval, hess_indices=n_hess,\n",
    "                            tr_classes=n_out, te_classes=n_out, hess_classes=n_out, one_hot = use_mse, \n",
    "                              visualise=True)\n",
    "\n",
    "    data_name = \"fmnist_\"+str(n_out)+\"cl_\"+str(n_train) + \"_\" + str(n_eval) \n",
    "    print(len(datasets))\n",
    "    return datasets, data_name\n",
    "\n",
    "datasets, data_name = __get_datasets()"
   ]
  },
  {
   "cell_type": "markdown",
   "id": "0d1825cf-cf66-4628-b1df-0fd549e6b388",
   "metadata": {},
   "source": [
    "# Architecture"
   ]
  },
  {
   "cell_type": "code",
   "execution_count": 14,
   "id": "847ce83c-7ef5-4b66-90ea-57ea34b43343",
   "metadata": {},
   "outputs": [
    {
     "name": "stdout",
     "output_type": "stream",
     "text": [
      "MLP3_nh32\n"
     ]
    }
   ],
   "source": [
    "importlib.reload(modules)\n",
    "\n",
    "def __get_arch__():\n",
    "    depth = 3\n",
    "    n_h = 32\n",
    "    use_DO = False\n",
    "    use_BN = False\n",
    "    \n",
    "    model = modules.MLPNet(depth, n_h, n_out, use_BN=use_BN, use_DO=use_DO, inputs_flatten=True)\n",
    "    model_name = f\"MLP{depth}_nh{n_h:d}\"\n",
    "    \n",
    "    if use_DO:\n",
    "        model_name += \"_DO\"\n",
    "    if use_BN:\n",
    "        model_name += \"_BN\"\n",
    "    return model, model_name\n",
    "    \n",
    "model_arch, model_name = __get_arch__()\n",
    "print(model_name)"
   ]
  },
  {
   "cell_type": "markdown",
   "id": "754d222c-9284-48b2-ba72-6ae1cf02ef3d",
   "metadata": {},
   "source": [
    "# Optimizer"
   ]
  },
  {
   "cell_type": "code",
   "execution_count": 15,
   "id": "8f871d6d-d289-4915-8975-f9c44d058baa",
   "metadata": {},
   "outputs": [],
   "source": [
    "#-----------------------------------------------------------------------------------------------------------------------------\n",
    "importlib.reload(modules)\n",
    "from optax import contrib\n",
    "\n",
    "def __get_optim__(warmup_steps, lr, b1, b2, b3, option=\"\", rho=None, sync_period=1):\n",
    "    # warmup_steps, lr, b1, b2, b3 = hyps['warmup_steps'], hyps['lr'], hyps['b1'], hyps['b2'], hyps['b3']\n",
    "    if option == 'sam':\n",
    "        assert rho is not None\n",
    "        warmup_scheduler = optax.linear_schedule(init_value=0.0, end_value=lr,\n",
    "                                                transition_steps=warmup_steps,\n",
    "                                                transition_begin=0,)\n",
    "        constant_scheduler = optax.constant_schedule(lr)\n",
    "        lr_scheduler = optax.join_schedules([warmup_scheduler, constant_scheduler], boundaries=[warmup_steps])\n",
    "        base_opt = modules.get_sgd_optimizer(lr_scheduler, b1, b2, b3, verbose=False)\n",
    "        adv_opt = modules.get_sgd_optimizer(rho, b1, b2, b3, verbose=False)\n",
    "        optimizer = contrib.sam(base_opt, adv_opt, sync_period=sync_period, opaque_mode=True) # sam opt\n",
    "        optim_name = f\"sgdFam-SAM_1b{b1}_2b{b2}_3b{b3}_lr{lr}_warmup{warmup_steps}_rho{rho}_syncT{sync_period}\"\n",
    "\n",
    "    else:\n",
    "        warmup_scheduler = optax.linear_schedule(init_value=0.0, end_value=lr,\n",
    "                                                transition_steps=warmup_steps,\n",
    "                                                transition_begin=0,)\n",
    "        constant_scheduler = optax.constant_schedule(lr)\n",
    "        lr_scheduler = optax.join_schedules([warmup_scheduler, constant_scheduler], boundaries=[warmup_steps])\n",
    "        optimizer = modules.get_sgd_optimizer(lr_scheduler, b1, b2, b3, verbose=False)\n",
    "        optim_name = f\"sgdFam_1b{b1}_2b{b2}_3b{b3}_lr{lr}_warmup{warmup_steps}\"\n",
    "        \n",
    "    return optimizer, optim_name\n",
    "\n",
    "optimizer, optim_name = __get_optim__(2, 0.1, 0, 0, 0)"
   ]
  },
  {
   "cell_type": "markdown",
   "id": "1fae0321-a5a3-4190-9934-f87074466230",
   "metadata": {},
   "source": [
    "# Model Params (Fixed and Tuned)"
   ]
  },
  {
   "cell_type": "code",
   "execution_count": 19,
   "id": "7bba4401-c995-444b-8b5a-fcf6efdb42e3",
   "metadata": {},
   "outputs": [
    {
     "name": "stdout",
     "output_type": "stream",
     "text": [
      "1\n"
     ]
    }
   ],
   "source": [
    "#-----------------------------------------------------------------------------------------------------------------------------\n",
    "import itertools\n",
    "### FIXED\n",
    "warmup_steps = 0\n",
    "bs = 1000\n",
    "eval_bs = 2000\n",
    "n_epochs = 400\n",
    "loss_fn = optax.softmax_cross_entropy_with_integer_labels\n",
    "# loss_fn = optax.squared_error\n",
    "\n",
    "# FLEXIBLE\n",
    "# lr = 0.005\n",
    "# beta_list = [(0., 0., 0.), (0., 0.99, 0.)]\n",
    "# optim_hp = LR, B1, B2, B3, SAM, Rho, sync_period\n",
    "optim_hp_list = [\n",
    "    (0.1, 0., 0., 0., False, 0., 1), \n",
    "    # (0.1, 0., 0., 0., True, 0.1, 1), \n",
    "    # (5e-3, 0., 0.9, 0., False, 0., 1), \n",
    "    # (5e-3, 0., 0.9, 0., True, 0., 1), \n",
    "    # (5e-3, 0., 0.9, 0., True, 0.1, 1), \n",
    "    # (5e-3, 0.9, 0.99, -1.0, False, 0., 1), \n",
    "    # (5e-3, 0.9, 0.99, -1.0, True, 0.01, 1), \n",
    "    # (5e-3, 0.9, 0.99, -0.5, False, 0., 1), \n",
    "    # (5e-3, 0.9, 0.99, -0.1, False, 0., 1), \n",
    "    # (5e-3, 0.9, 0.99, -0.05, False, 0., 1),\n",
    "    # (5e-3, 0.9, 0.99, -0.01, False, 0., 1),\n",
    "    # (5e-3, 0.9, 0.99, -0.005, False, 0., 1), \n",
    "    # (5e-3, 0.9, 0.99, -0.001, False, 0., 1), \n",
    "]\n",
    "seed_list = [x for x in range(1)]\n",
    "# seed_list = [1352] # just to check new SAM with new loss_wrap\n",
    "# sam_list = [False, True]\n",
    "s = [optim_hp_list, seed_list]\n",
    "hyp_list = list(itertools.product(*s))\n",
    "print(len(hyp_list))"
   ]
  },
  {
   "cell_type": "markdown",
   "id": "16a3fe1b-9c7b-4df5-95c2-74d36952280c",
   "metadata": {},
   "source": [
    "# Callbacks"
   ]
  },
  {
   "cell_type": "code",
   "execution_count": 17,
   "id": "f047b6bf-6631-4765-b580-5729e89aa0c5",
   "metadata": {},
   "outputs": [],
   "source": [
    "#-----------------------------------------------------------------------------------------------------------------------------\n",
    "sws = 1\n",
    "cb_freq = 1\n",
    "# hess_freq = int(1e8) # really large\n",
    "hess_freq = 1\n",
    "importlib.reload(callbacks)\n",
    "def __get_cbs__(state, option, compute_hessian=False):\n",
    "    bn = False if option == \"\" else True\n",
    "    cbs = []\n",
    "    cbs.append(callbacks.saveWeightsCB(sws, grad=True))\n",
    "    # cbs.append(callbacks.thinCB(thin_freq=cb_freq))\n",
    "\n",
    "    if compute_hessian:\n",
    "        hvpCB = callbacks.hvpCB(loss_fn=loss_fn, batches=(datasets[2].data[:n_hess], datasets[2].targets[:n_hess]), \n",
    "                            save_freq=hess_freq, hess_bs=n_hess, state=state, bn=bn)\n",
    "        cbs.append(hvpCB)   \n",
    "        specCB = callbacks.spectrumCB(n_eigs=20, n_evecs=10, \n",
    "                    loss_fn=loss_fn, seed=seed, hvpCB=hvpCB, save_freq=hess_freq, verbose=False)\n",
    "        cbs.append(specCB)\n",
    "\n",
    "    # esCB = callbacks.earlyStopCB(acc_threshold=0.999, cbs=None, min_eps=sws, max_eps=n_epochs, conseq_eps=2,\n",
    "    #                              final_cbs=[hvpCB, specCB], verbose=False, low_eps=max(sws, 100), low_thresh=0.11, )\n",
    "    # cbs.append(esCB)\n",
    "    return cbs\n"
   ]
  },
  {
   "cell_type": "markdown",
   "id": "2f62ae84-b4c1-4432-b483-740b815ac760",
   "metadata": {},
   "source": [
    "# Train State"
   ]
  },
  {
   "cell_type": "code",
   "execution_count": 18,
   "id": "10a0d986-e610-48b1-8b2b-837cd218d452",
   "metadata": {},
   "outputs": [],
   "source": [
    "from flax import struct                # Flax dataclasses\n",
    "from clu import metrics\n",
    "from flax.training import train_state  # Useful dataclass to keep train state\n",
    "importlib.reload(modules)\n",
    "\n",
    "@struct.dataclass\n",
    "class Metrics(metrics.Collection):\n",
    "    accuracy: metrics.Accuracy\n",
    "    loss: metrics.Average.from_output('loss')\n",
    "\n",
    "class TrainState(train_state.TrainState):\n",
    "    metrics: Metrics\n",
    "    batch_stats: tp.Any\n",
    "\n",
    "class TrainStateSAM(modules.TrainStateSAM):\n",
    "    metrics: Metrics\n",
    "    batch_stats: tp.Any\n",
    "\n",
    "def create_train_state(model, optimizer, inputs, rng, option=\"\"):\n",
    "    \"\"\"Creates an initial `TrainState`.\"\"\"\n",
    "    if option == \"\":\n",
    "        params = model.init(rng, jnp.ones_like(inputs[0][jnp.newaxis, :]))['params'] # initialize parameters by passing a template image\n",
    "        \n",
    "        tx = optimizer\n",
    "        return TrainState.create(\n",
    "          apply_fn=model.apply, params=params, tx=tx, metrics=Metrics.empty())\n",
    "        \n",
    "    elif option == \"bn\":\n",
    "        variables = model.init(rng, jnp.ones_like(inputs[0][jnp.newaxis, :])) # initialize parameters by passing a template image\n",
    "        params = variables['params']\n",
    "        batch_stats = variables['batch_stats']\n",
    "        \n",
    "        tx = optimizer\n",
    "        return TrainState.create(\n",
    "          apply_fn=model.apply, params=params, tx=tx, batch_stats=batch_stats, \n",
    "          metrics=Metrics.empty())\n",
    "        \n",
    "    elif option == \"sam\":\n",
    "        variables = model.init(rng, jnp.ones_like(inputs[0][jnp.newaxis, :])) # initialize parameters by passing a template image\n",
    "        params = variables['params']\n",
    "        batch_stats = variables['batch_stats']\n",
    "        \n",
    "        tx = optimizer\n",
    "        return TrainStateSAM.create(\n",
    "          apply_fn=model.apply, params=params, tx=tx, batch_stats=batch_stats, \n",
    "          metrics=Metrics.empty())\n",
    "    else:\n",
    "        raise NotImplementedError\n",
    "        \n",
    "        "
   ]
  },
  {
   "cell_type": "markdown",
   "id": "6d98af9c-1eaf-4282-a98f-a6e2a910dffe",
   "metadata": {},
   "source": [
    "# Training"
   ]
  },
  {
   "cell_type": "code",
   "execution_count": 28,
   "id": "71eb9178-e47b-45cf-ada0-bbbc84bc7342",
   "metadata": {
    "scrolled": true
   },
   "outputs": [
    {
     "name": "stdout",
     "output_type": "stream",
     "text": [
      "num params 32782\n",
      "tr_acc: 99.902344%, te_acc: 46.150002%\n",
      "sharp: 3147965.25\n",
      "250211-1104_cifar10_10cl_5120_2000_VGG10_base8_BN_seed0_sgdFam_1b0.0_2b0.0_3b0.0_lr0.1_warmup2_epochs2000_bs64 complete\n",
      "\n",
      " ---------------------------------------------------------------------------------------------------------\n",
      "\n",
      "num params 32782\n",
      "tr_acc: 99.902344%, te_acc: 47.350001%\n",
      "sharp: 740278.0625\n",
      "250211-1108_cifar10_10cl_5120_2000_VGG10_base8_BN_seed0_sgdFam-SAM_1b0.0_2b0.0_3b0.0_lr0.1_warmup2_rho0.1_syncT1_epochs2000_bs64 complete\n",
      "\n",
      " ---------------------------------------------------------------------------------------------------------\n",
      "\n",
      "num params 32782\n",
      "tr_acc: 99.902344%, te_acc: 50.550002%\n",
      "sharp: 48538541096960.0\n",
      "250211-1113_cifar10_10cl_5120_2000_VGG10_base8_BN_seed0_sgdFam_1b0.0_2b0.9_3b0.0_lr0.005_warmup2_epochs2000_bs64 complete\n",
      "\n",
      " ---------------------------------------------------------------------------------------------------------\n",
      "\n",
      "num params 32782\n",
      "tr_acc: 99.902344%, te_acc: 50.550002%\n",
      "sharp: 5274903511040.0\n",
      "250211-1133_cifar10_10cl_5120_2000_VGG10_base8_BN_seed0_sgdFam-SAM_1b0.0_2b0.9_3b0.0_lr0.005_warmup2_rho0.0_syncT1_epochs2000_bs64 complete\n",
      "\n",
      " ---------------------------------------------------------------------------------------------------------\n",
      "\n",
      "num params 32782\n",
      "tr_acc: 99.902344%, te_acc: 47.400004%\n",
      "sharp: 20391842021376.0\n",
      "250211-1148_cifar10_10cl_5120_2000_VGG10_base8_BN_seed0_sgdFam-SAM_1b0.0_2b0.9_3b0.0_lr0.005_warmup2_rho0.1_syncT1_epochs2000_bs64 complete\n",
      "\n",
      " ---------------------------------------------------------------------------------------------------------\n",
      "\n",
      "num params 32782\n",
      "tr_acc: 99.960941%, te_acc: 51.750004%\n",
      "sharp: 4917029765120.0\n",
      "250211-1203_cifar10_10cl_5120_2000_VGG10_base8_BN_seed0_sgdFam_1b0.9_2b0.99_3b-1.0_lr0.005_warmup2_epochs2000_bs64 complete\n",
      "\n",
      " ---------------------------------------------------------------------------------------------------------\n",
      "\n",
      "num params 32782\n",
      "tr_acc: 99.902344%, te_acc: 49.000001%\n",
      "sharp: 3035946287104.0\n",
      "250211-1216_cifar10_10cl_5120_2000_VGG10_base8_BN_seed0_sgdFam-SAM_1b0.9_2b0.99_3b-1.0_lr0.005_warmup2_rho0.01_syncT1_epochs2000_bs64 complete\n",
      "\n",
      " ---------------------------------------------------------------------------------------------------------\n",
      "\n",
      "num params 32782\n",
      "tr_acc: 99.921876%, te_acc: 50.300002%\n",
      "sharp: 8431164981248.0\n",
      "250211-1228_cifar10_10cl_5120_2000_VGG10_base8_BN_seed0_sgdFam_1b0.9_2b0.99_3b-0.5_lr0.005_warmup2_epochs2000_bs64 complete\n",
      "\n",
      " ---------------------------------------------------------------------------------------------------------\n",
      "\n",
      "num params 32782\n",
      "tr_acc: 99.921876%, te_acc: 49.400002%\n",
      "sharp: 2566321340416.0\n",
      "250211-1241_cifar10_10cl_5120_2000_VGG10_base8_BN_seed0_sgdFam_1b0.9_2b0.99_3b-0.1_lr0.005_warmup2_epochs2000_bs64 complete\n",
      "\n",
      " ---------------------------------------------------------------------------------------------------------\n",
      "\n",
      "num params 32782\n",
      "tr_acc: 99.902344%, te_acc: 49.850002%\n",
      "sharp: 4382914248704.0\n",
      "250211-1253_cifar10_10cl_5120_2000_VGG10_base8_BN_seed0_sgdFam_1b0.9_2b0.99_3b-0.05_lr0.005_warmup2_epochs2000_bs64 complete\n",
      "\n",
      " ---------------------------------------------------------------------------------------------------------\n",
      "\n",
      "num params 32782\n",
      "tr_acc: 99.902344%, te_acc: 48.050001%\n",
      "sharp: 102943177048064.0\n",
      "250211-1306_cifar10_10cl_5120_2000_VGG10_base8_BN_seed0_sgdFam_1b0.9_2b0.99_3b-0.01_lr0.005_warmup2_epochs2000_bs64 complete\n",
      "\n",
      " ---------------------------------------------------------------------------------------------------------\n",
      "\n",
      "num params 32782\n",
      "tr_acc: 99.921876%, te_acc: 49.950004%\n",
      "sharp: 407165953114112.0\n",
      "250211-1316_cifar10_10cl_5120_2000_VGG10_base8_BN_seed0_sgdFam_1b0.9_2b0.99_3b-0.005_lr0.005_warmup2_epochs2000_bs64 complete\n",
      "\n",
      " ---------------------------------------------------------------------------------------------------------\n",
      "\n",
      "num params 32782\n",
      "tr_acc: 11.210938%, te_acc: 9.950001%\n",
      "sharp: 83625907322880.0\n",
      "250211-1326_cifar10_10cl_5120_2000_VGG10_base8_BN_seed0_sgdFam_1b0.9_2b0.99_3b-0.001_lr0.005_warmup2_epochs2000_bs64 complete\n",
      "\n",
      " ---------------------------------------------------------------------------------------------------------\n",
      "\n"
     ]
    }
   ],
   "source": [
    "#-----------------------------------------------------------------------------------------------------------------------------\n",
    "import training\n",
    "importlib.reload(training)\n",
    "\n",
    "load_files = False\n",
    "compute_hessian = True\n",
    "force_train = False\n",
    "\n",
    "all_mh = []\n",
    "all_exp_names = []\n",
    "\n",
    "for hyp in hyp_list:\n",
    "    \n",
    "    metrics_history = {'train_loss': [],\n",
    "                   'train_accuracy': [],\n",
    "                   'test_loss': [],\n",
    "                   'test_accuracy': []}\n",
    "\n",
    "    lr, b1, b2, b3, sam, sam_rho, sync_T = hyp[0]\n",
    "    seed = hyp[1]\n",
    "    option = 'sam' if sam else \"bn\"\n",
    "    \n",
    "    if datasets is None:\n",
    "        datasets, data_name = __get_datasets__()\n",
    "    \n",
    "    train_loader = lib_data.NumpyLoader(datasets[0], batch_size=bs, shuffle=True)\n",
    "    for sample_batch in train_loader:\n",
    "        break\n",
    "    \n",
    "    test_loader = lib_data.NumpyLoader(datasets[1], batch_size=eval_bs)\n",
    "    dataloaders = [train_loader, test_loader]\n",
    "    \n",
    "    model, model_name = __get_arch__()\n",
    "    model_name += \"_seed\"+str(seed)\n",
    "\n",
    "    optim, optim_name = __get_optim__(warmup_steps, lr, b1, b2, b3, option=option, rho=sam_rho, sync_period=sync_T)\n",
    "    optim_name += f\"_epochs{n_epochs}_bs{bs}\"\n",
    "\n",
    "    init_rng = jax.random.PRNGKey(seed)\n",
    "    state = create_train_state(model, optim, sample_batch[0], init_rng, option=option)\n",
    "    del init_rng  # Must not be used anymore.\n",
    "    \n",
    "    cbs = __get_cbs__(state, compute_hessian=compute_hessian)\n",
    "    cb_name_str = utils.get_callback_name_str(cbs)\n",
    "    cb_name_list = utils.get_callback_name_list(cbs)\n",
    "    # break\n",
    "    num_params = utils.count_params(state.params)\n",
    "    print(\"num params\", num_params)\n",
    "\n",
    "    experiment_name = utils.get_now() + \"_\" + data_name + \"_\" + model_name + \"_\" + optim_name\n",
    "    \n",
    "    try:\n",
    "        if force_train:\n",
    "            raise FileNotFoundError\n",
    "        experiment_name, lse = utils.find_latest_exp(experiment_name, n_epochs, save_freq=cb_freq, \n",
    "                                                   cbs=cb_name_list, unknown_lse=True, verbose=False)\n",
    "        metrics_history = utils.load_thing(\"traj/\" + experiment_name + \"/metrics.pkl\")\n",
    "        print(f\"tr_acc: {metrics_history['train_accuracy'][-1]:0%}, te_acc: {metrics_history['test_accuracy'][-1]:0%}\")\n",
    "        metrics_history['lse'] = [lse]\n",
    "        if compute_hessian:\n",
    "            eigvals = utils.load_thing(\"traj/\" + experiment_name + \"/eigvals.pkl\")\n",
    "            metrics_history['eigvals'] = eigvals\n",
    "            print(f\"sharp: {metrics_history['eigvals'][-1][0]}\")\n",
    "\n",
    "    except FileNotFoundError:\n",
    "        metrics_history = training.train_model(state, model, loss_fn, metrics_history, n_epochs, dataloaders, \\\n",
    "                                                   experiment_name, cbs, option=option, force_fb=True, tqdm_over_epochs=10)         \n",
    "        \n",
    "    all_mh.append(metrics_history)\n",
    "    all_exp_names.append(experiment_name)\n",
    "    \n",
    "    print(experiment_name, \"complete\")\n",
    "    print(\"\\n ---------------------------------------------------------------------------------------------------------\\n\")\n",
    "# Training: datasets, hps, arch_func, optim_func, cb_func, -> train model\n"
   ]
  },
  {
   "cell_type": "code",
   "execution_count": 20,
   "id": "f582c1f4-f817-45c0-9327-56b93b213020",
   "metadata": {},
   "outputs": [
    {
     "name": "stdout",
     "output_type": "stream",
     "text": [
      "13 13\n"
     ]
    }
   ],
   "source": [
    "print(len(optim_hp_list), len(all_mh))"
   ]
  },
  {
   "cell_type": "markdown",
   "id": "7faca97a-377f-42dd-bd82-6276abbe80cd",
   "metadata": {},
   "source": [
    "# Results"
   ]
  },
  {
   "cell_type": "code",
   "execution_count": 29,
   "id": "27481e4b-950c-4fdf-a022-073d8417d64e",
   "metadata": {},
   "outputs": [
    {
     "name": "stdout",
     "output_type": "stream",
     "text": [
      "SGD, train_accuracy:0.9990234375, test_accuracy:0.46150001883506775, lse:145.0\n",
      "SGD-SAM, train_accuracy:0.9990234375, test_accuracy:0.47350001335144043, lse:227.0\n",
      "ADAM, train_accuracy:0.9990234375, test_accuracy:0.5055000185966492, lse:783.0\n",
      "ADAM-SAM-R0, train_accuracy:0.9990234375, test_accuracy:0.5055000185966492, lse:605.0\n",
      "ADAM-SAM, train_accuracy:0.9990234375, test_accuracy:0.4740000367164612, lse:574.0\n",
      "ADAM-UB-1e0, train_accuracy:0.9996094107627869, test_accuracy:0.5175000429153442, lse:538.0\n",
      "ADAM-UB-1e0-SAM, train_accuracy:0.9990234375, test_accuracy:0.49000000953674316, lse:453.0\n",
      "ADAM-UB-5e-1, train_accuracy:0.999218761920929, test_accuracy:0.503000020980835, lse:529.0\n",
      "ADAM-UB-1e-1, train_accuracy:0.999218761920929, test_accuracy:0.49400001764297485, lse:505.0\n",
      "ADAM-UB-5e-2, train_accuracy:0.9990234375, test_accuracy:0.4985000193119049, lse:478.0\n",
      "ADAM-UB-1e-2, train_accuracy:0.9990234375, test_accuracy:0.4805000126361847, lse:408.0\n",
      "ADAM-UB-5e-3, train_accuracy:0.999218761920929, test_accuracy:0.499500036239624, lse:419.0\n",
      "ADAM-UB-1e-3, train_accuracy:0.11210937798023224, test_accuracy:0.09950000792741776, lse:100.0\n"
     ]
    }
   ],
   "source": [
    "optim_names = ['SGD', 'SGD-SAM', 'ADAM', 'ADAM-SAM-R0', 'ADAM-SAM', 'ADAM-UB-1e0', 'ADAM-UB-1e0-SAM', 'ADAM-UB-5e-1','ADAM-UB-1e-1', 'ADAM-UB-5e-2', 'ADAM-UB-1e-2', 'ADAM-UB-5e-3','ADAM-UB-1e-3']\n",
    "stat_names = ['train_accuracy', 'test_accuracy', 'lse']\n",
    "n_seeds = len(seed_list)\n",
    "for i in range(len(optim_hp_list)):\n",
    "    stats = [ 0 for j in range(len(stat_names))]\n",
    "    for j in range(len(stats)):\n",
    "        for k in range(n_seeds*i, n_seeds*i+n_seeds):\n",
    "            stats[j] += all_mh[k][stat_names[j]][-1]\n",
    "    out = f\"{optim_names[i]}\"\n",
    "    for j in range(len(stats)):\n",
    "        out += f\", {stat_names[j]}:{stats[j]/n_seeds}\"\n",
    "    print(out)\n",
    "    # print(optim_hp_list[i], np.mean(all_mh[3*i:3*i+3]['train_accuracy'][-1]), np.mean(all_mh[3*i:3*i+3]['test_accuracy'][-1]))"
   ]
  },
  {
   "cell_type": "markdown",
   "id": "b0fa1d12-ed2a-4a78-ac25-c212bcbc49a0",
   "metadata": {},
   "source": [
    "# Analysis"
   ]
  },
  {
   "cell_type": "code",
   "execution_count": null,
   "id": "4a6ff518-d4f5-464b-903e-d9cb7e296abd",
   "metadata": {},
   "outputs": [],
   "source": []
  },
  {
   "cell_type": "code",
   "execution_count": null,
   "id": "a9aeb3e1-ca5d-48e3-a999-fc78a31573e4",
   "metadata": {},
   "outputs": [],
   "source": []
  },
  {
   "cell_type": "code",
   "execution_count": null,
   "id": "e958ecb6-be9a-47f3-978f-526dceef9f8d",
   "metadata": {},
   "outputs": [],
   "source": []
  }
 ],
 "metadata": {
  "kernelspec": {
   "display_name": "Python 3 (ipykernel)",
   "language": "python",
   "name": "python3"
  },
  "language_info": {
   "codemirror_mode": {
    "name": "ipython",
    "version": 3
   },
   "file_extension": ".py",
   "mimetype": "text/x-python",
   "name": "python",
   "nbconvert_exporter": "python",
   "pygments_lexer": "ipython3",
   "version": "3.10.0"
  }
 },
 "nbformat": 4,
 "nbformat_minor": 5
}
